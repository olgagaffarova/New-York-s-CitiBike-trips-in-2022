{
 "cells": [
  {
   "cell_type": "markdown",
   "id": "4f99954b-9ac7-4c4c-94ee-2e8d61005089",
   "metadata": {},
   "source": [
    "### This script contains the below:\n",
    "1. Import libraries\n",
    "2. Importing bike trips data to merge it\n",
    "3. Get weather data using NOAA's API\n",
    "4. Merge bike trip and weather data"
   ]
  },
  {
   "cell_type": "markdown",
   "id": "b65e9b1d-d73a-408e-9448-530fcdb9f84f",
   "metadata": {},
   "source": [
    "# 01 Importing libraries"
   ]
  },
  {
   "cell_type": "code",
   "execution_count": 6,
   "id": "26ed41ab-118b-4a3f-a662-33b42ebc58d7",
   "metadata": {},
   "outputs": [],
   "source": [
    "import pandas as pd\n",
    "import numpy as np\n",
    "import os\n",
    "import requests\n",
    "import json\n",
    "from datetime import datetime"
   ]
  },
  {
   "cell_type": "markdown",
   "id": "4a2b3cd3-787f-4d5c-b9e1-5cb5269e6024",
   "metadata": {},
   "source": [
    "# 02 Importing data"
   ]
  },
  {
   "cell_type": "code",
   "execution_count": 9,
   "id": "1a773587-64dd-4368-bdc7-b466e5562247",
   "metadata": {},
   "outputs": [],
   "source": [
    "# Create a list with all files in the folder using a list comprehension\n",
    "\n",
    "folderpath = r\"02 Data/Original Data\" \n",
    "filepath = [os.path.join(folderpath, name) for name in os.listdir(folderpath)]"
   ]
  },
  {
   "cell_type": "code",
   "execution_count": 12,
   "id": "283281dc-1ab8-4eeb-ba11-f3c47c666bbc",
   "metadata": {},
   "outputs": [
    {
     "data": {
      "text/plain": [
       "['02 Data/Original Data/Divvy_Trips_2018_Q1.csv',\n",
       " '02 Data/Original Data/Divvy_Trips_2018_Q2.csv',\n",
       " '02 Data/Original Data/Divvy_Trips_2018_Q3.csv',\n",
       " '02 Data/Original Data/Divvy_Trips_2018_Q4.csv']"
      ]
     },
     "execution_count": 12,
     "metadata": {},
     "output_type": "execute_result"
    }
   ],
   "source": [
    "filepath"
   ]
  },
  {
   "cell_type": "code",
   "execution_count": 19,
   "id": "269d29f5-56f7-4c9e-8e03-9b3afa4d19a5",
   "metadata": {},
   "outputs": [],
   "source": [
    "# merging the data\n",
    "df = pd.concat((pd.read_csv(f) for f in filepath), ignore_index = True)"
   ]
  },
  {
   "cell_type": "code",
   "execution_count": 15,
   "id": "c1a14982-6c98-4bfb-8ed1-07f9cfd33890",
   "metadata": {},
   "outputs": [
    {
     "data": {
      "text/html": [
       "<div>\n",
       "<style scoped>\n",
       "    .dataframe tbody tr th:only-of-type {\n",
       "        vertical-align: middle;\n",
       "    }\n",
       "\n",
       "    .dataframe tbody tr th {\n",
       "        vertical-align: top;\n",
       "    }\n",
       "\n",
       "    .dataframe thead th {\n",
       "        text-align: right;\n",
       "    }\n",
       "</style>\n",
       "<table border=\"1\" class=\"dataframe\">\n",
       "  <thead>\n",
       "    <tr style=\"text-align: right;\">\n",
       "      <th></th>\n",
       "      <th>trip_id</th>\n",
       "      <th>start_time</th>\n",
       "      <th>end_time</th>\n",
       "      <th>bikeid</th>\n",
       "      <th>tripduration</th>\n",
       "      <th>from_station_id</th>\n",
       "      <th>from_station_name</th>\n",
       "      <th>to_station_id</th>\n",
       "      <th>to_station_name</th>\n",
       "      <th>usertype</th>\n",
       "      <th>gender</th>\n",
       "      <th>birthyear</th>\n",
       "    </tr>\n",
       "  </thead>\n",
       "  <tbody>\n",
       "    <tr>\n",
       "      <th>0</th>\n",
       "      <td>17536702</td>\n",
       "      <td>2018-01-01 00:12:00</td>\n",
       "      <td>2018-01-01 00:17:23</td>\n",
       "      <td>3304</td>\n",
       "      <td>323.0</td>\n",
       "      <td>69</td>\n",
       "      <td>Damen Ave &amp; Pierce Ave</td>\n",
       "      <td>159</td>\n",
       "      <td>Claremont Ave &amp; Hirsch St</td>\n",
       "      <td>Subscriber</td>\n",
       "      <td>Male</td>\n",
       "      <td>1988.0</td>\n",
       "    </tr>\n",
       "    <tr>\n",
       "      <th>1</th>\n",
       "      <td>17536703</td>\n",
       "      <td>2018-01-01 00:41:35</td>\n",
       "      <td>2018-01-01 00:47:52</td>\n",
       "      <td>5367</td>\n",
       "      <td>377.0</td>\n",
       "      <td>253</td>\n",
       "      <td>Winthrop Ave &amp; Lawrence Ave</td>\n",
       "      <td>325</td>\n",
       "      <td>Clark St &amp; Winnemac Ave (Temp)</td>\n",
       "      <td>Subscriber</td>\n",
       "      <td>Male</td>\n",
       "      <td>1984.0</td>\n",
       "    </tr>\n",
       "    <tr>\n",
       "      <th>2</th>\n",
       "      <td>17536704</td>\n",
       "      <td>2018-01-01 00:44:46</td>\n",
       "      <td>2018-01-01 01:33:10</td>\n",
       "      <td>4599</td>\n",
       "      <td>2,904.0</td>\n",
       "      <td>98</td>\n",
       "      <td>LaSalle St &amp; Washington St</td>\n",
       "      <td>509</td>\n",
       "      <td>Troy St &amp; North Ave</td>\n",
       "      <td>Subscriber</td>\n",
       "      <td>Male</td>\n",
       "      <td>1989.0</td>\n",
       "    </tr>\n",
       "    <tr>\n",
       "      <th>3</th>\n",
       "      <td>17536705</td>\n",
       "      <td>2018-01-01 00:53:10</td>\n",
       "      <td>2018-01-01 01:05:37</td>\n",
       "      <td>2302</td>\n",
       "      <td>747.0</td>\n",
       "      <td>125</td>\n",
       "      <td>Rush St &amp; Hubbard St</td>\n",
       "      <td>364</td>\n",
       "      <td>Larrabee St &amp; Oak St</td>\n",
       "      <td>Subscriber</td>\n",
       "      <td>Male</td>\n",
       "      <td>1983.0</td>\n",
       "    </tr>\n",
       "    <tr>\n",
       "      <th>4</th>\n",
       "      <td>17536706</td>\n",
       "      <td>2018-01-01 00:53:37</td>\n",
       "      <td>2018-01-01 00:56:40</td>\n",
       "      <td>3696</td>\n",
       "      <td>183.0</td>\n",
       "      <td>129</td>\n",
       "      <td>Blue Island Ave &amp; 18th St</td>\n",
       "      <td>205</td>\n",
       "      <td>Paulina St &amp; 18th St</td>\n",
       "      <td>Subscriber</td>\n",
       "      <td>Male</td>\n",
       "      <td>1989.0</td>\n",
       "    </tr>\n",
       "  </tbody>\n",
       "</table>\n",
       "</div>"
      ],
      "text/plain": [
       "    trip_id           start_time             end_time  bikeid tripduration  \\\n",
       "0  17536702  2018-01-01 00:12:00  2018-01-01 00:17:23    3304        323.0   \n",
       "1  17536703  2018-01-01 00:41:35  2018-01-01 00:47:52    5367        377.0   \n",
       "2  17536704  2018-01-01 00:44:46  2018-01-01 01:33:10    4599      2,904.0   \n",
       "3  17536705  2018-01-01 00:53:10  2018-01-01 01:05:37    2302        747.0   \n",
       "4  17536706  2018-01-01 00:53:37  2018-01-01 00:56:40    3696        183.0   \n",
       "\n",
       "   from_station_id            from_station_name  to_station_id  \\\n",
       "0               69       Damen Ave & Pierce Ave            159   \n",
       "1              253  Winthrop Ave & Lawrence Ave            325   \n",
       "2               98   LaSalle St & Washington St            509   \n",
       "3              125         Rush St & Hubbard St            364   \n",
       "4              129    Blue Island Ave & 18th St            205   \n",
       "\n",
       "                  to_station_name    usertype gender  birthyear  \n",
       "0       Claremont Ave & Hirsch St  Subscriber   Male     1988.0  \n",
       "1  Clark St & Winnemac Ave (Temp)  Subscriber   Male     1984.0  \n",
       "2             Troy St & North Ave  Subscriber   Male     1989.0  \n",
       "3            Larrabee St & Oak St  Subscriber   Male     1983.0  \n",
       "4            Paulina St & 18th St  Subscriber   Male     1989.0  "
      ]
     },
     "execution_count": 15,
     "metadata": {},
     "output_type": "execute_result"
    }
   ],
   "source": [
    "df.head()"
   ]
  },
  {
   "cell_type": "code",
   "execution_count": 16,
   "id": "9478ded0-ab05-4e73-bc6c-01e33672b415",
   "metadata": {},
   "outputs": [
    {
     "data": {
      "text/plain": [
       "(3603082, 12)"
      ]
     },
     "execution_count": 16,
     "metadata": {},
     "output_type": "execute_result"
    }
   ],
   "source": [
    "df.shape"
   ]
  },
  {
   "cell_type": "markdown",
   "id": "3de47271-4cbc-4f2c-80eb-5e1b26f14b82",
   "metadata": {},
   "source": [
    "# 03 Gathering Weather Data"
   ]
  },
  {
   "cell_type": "code",
   "execution_count": 20,
   "id": "7d93396e-b45d-4118-8d04-2041e4e056ca",
   "metadata": {},
   "outputs": [],
   "source": [
    "# Define your NOAA token\n",
    "\n",
    "Token = 'HLPKfjkSRPFNvFLMQBdRxcFpoojZoEwc'"
   ]
  },
  {
   "cell_type": "code",
   "execution_count": 23,
   "id": "da6ae1db-f598-4136-ac1d-6cf7d931f5da",
   "metadata": {},
   "outputs": [],
   "source": [
    "# URL for O’Hare\n",
    "url = \"https://www.ncdc.noaa.gov/cdo-web/api/v2/data?datasetid=GHCND&datatypeid=TAVG&limit=1000&stationid=GHCND:USW00094846&startdate=2018-01-01&enddate=2018-12-31\"\n",
    "\n",
    "r = requests.get(url, headers={'token': Token})"
   ]
  },
  {
   "cell_type": "code",
   "execution_count": 24,
   "id": "72c59228-b009-4647-991e-2a30e18a4cc3",
   "metadata": {},
   "outputs": [],
   "source": [
    "# Store the Data in JSON Format\n",
    "d = json.loads(r.text)  "
   ]
  },
  {
   "cell_type": "code",
   "execution_count": 55,
   "id": "1e0e88ad-c2b7-4312-8f76-69e37f77c3d8",
   "metadata": {},
   "outputs": [],
   "source": [
    "# Secure all items in the response that correspond to TAVG\n",
    "\n",
    "avg_temps = [item for item in d['results'] if item['datatype']=='TAVG']\n",
    "# Get only the date field from all average temperature readings\n",
    "\n",
    "dates_temp = [item['date'] for item in avg_temps]\n",
    "# Get the temperature from all average temperature readings\n",
    "\n",
    "temps = [item['value'] for item in avg_temps]"
   ]
  },
  {
   "cell_type": "code",
   "execution_count": 56,
   "id": "1bdecfc5-7506-43ab-a9df-da24549538d6",
   "metadata": {},
   "outputs": [],
   "source": [
    "df_temp = pd.DataFrame()"
   ]
  },
  {
   "cell_type": "code",
   "execution_count": 57,
   "id": "25ade11e-89f9-487b-b42a-eaedfb70462d",
   "metadata": {},
   "outputs": [],
   "source": [
    "# Get only date and cast it to date time; convert temperature from tenths of Celsius to normal Celsius\n",
    "\n",
    "df_temp['date'] = [datetime.strptime(d, \"%Y-%m-%dT%H:%M:%S\") for d in dates_temp]\n",
    "df_temp['avgTemp'] = [float(v)/10.0 for v in temps]"
   ]
  },
  {
   "cell_type": "code",
   "execution_count": 58,
   "id": "738432cb-7c29-4b22-b9f1-ad11c3a0a73e",
   "metadata": {},
   "outputs": [
    {
     "data": {
      "text/html": [
       "<div>\n",
       "<style scoped>\n",
       "    .dataframe tbody tr th:only-of-type {\n",
       "        vertical-align: middle;\n",
       "    }\n",
       "\n",
       "    .dataframe tbody tr th {\n",
       "        vertical-align: top;\n",
       "    }\n",
       "\n",
       "    .dataframe thead th {\n",
       "        text-align: right;\n",
       "    }\n",
       "</style>\n",
       "<table border=\"1\" class=\"dataframe\">\n",
       "  <thead>\n",
       "    <tr style=\"text-align: right;\">\n",
       "      <th></th>\n",
       "      <th>date</th>\n",
       "      <th>avgTemp</th>\n",
       "    </tr>\n",
       "  </thead>\n",
       "  <tbody>\n",
       "    <tr>\n",
       "      <th>0</th>\n",
       "      <td>2018-01-01</td>\n",
       "      <td>-18.9</td>\n",
       "    </tr>\n",
       "    <tr>\n",
       "      <th>1</th>\n",
       "      <td>2018-01-02</td>\n",
       "      <td>-19.1</td>\n",
       "    </tr>\n",
       "    <tr>\n",
       "      <th>2</th>\n",
       "      <td>2018-01-03</td>\n",
       "      <td>-11.4</td>\n",
       "    </tr>\n",
       "    <tr>\n",
       "      <th>3</th>\n",
       "      <td>2018-01-04</td>\n",
       "      <td>-13.9</td>\n",
       "    </tr>\n",
       "    <tr>\n",
       "      <th>4</th>\n",
       "      <td>2018-01-05</td>\n",
       "      <td>-15.2</td>\n",
       "    </tr>\n",
       "  </tbody>\n",
       "</table>\n",
       "</div>"
      ],
      "text/plain": [
       "        date  avgTemp\n",
       "0 2018-01-01    -18.9\n",
       "1 2018-01-02    -19.1\n",
       "2 2018-01-03    -11.4\n",
       "3 2018-01-04    -13.9\n",
       "4 2018-01-05    -15.2"
      ]
     },
     "execution_count": 58,
     "metadata": {},
     "output_type": "execute_result"
    }
   ],
   "source": [
    "df_temp.head()"
   ]
  },
  {
   "cell_type": "markdown",
   "id": "1caedc41-99b2-41db-acd7-3d91761984e7",
   "metadata": {},
   "source": [
    "# 04 Merge bike trip and weather data"
   ]
  },
  {
   "cell_type": "code",
   "execution_count": 59,
   "id": "65ef529b-2aa0-44f6-83c5-39acf6db68e6",
   "metadata": {},
   "outputs": [
    {
     "data": {
      "text/plain": [
       "trip_id                       int64\n",
       "start_time           datetime64[ns]\n",
       "end_time                     object\n",
       "bikeid                        int64\n",
       "tripduration                 object\n",
       "from_station_id               int64\n",
       "from_station_name            object\n",
       "to_station_id                 int64\n",
       "to_station_name              object\n",
       "usertype                     object\n",
       "gender                       object\n",
       "birthyear                   float64\n",
       "date                         object\n",
       "dtype: object"
      ]
     },
     "execution_count": 59,
     "metadata": {},
     "output_type": "execute_result"
    }
   ],
   "source": [
    "df.dtypes"
   ]
  },
  {
   "cell_type": "code",
   "execution_count": 61,
   "id": "722d5799-c864-4c50-898c-6c1a580d49b0",
   "metadata": {},
   "outputs": [
    {
     "data": {
      "text/plain": [
       "date       datetime64[ns]\n",
       "avgTemp           float64\n",
       "dtype: object"
      ]
     },
     "execution_count": 61,
     "metadata": {},
     "output_type": "execute_result"
    }
   ],
   "source": [
    "df_temp.dtypes"
   ]
  },
  {
   "cell_type": "code",
   "execution_count": 62,
   "id": "92f8236e-5106-42e0-b9aa-887bb24f7f5f",
   "metadata": {},
   "outputs": [],
   "source": [
    "# Convert 'date' from string to datetime\n",
    "\n",
    "df['date'] = pd.to_datetime(df['date'])"
   ]
  },
  {
   "cell_type": "code",
   "execution_count": 63,
   "id": "c17a6864-2c63-418b-8169-47c5e03ed15c",
   "metadata": {},
   "outputs": [
    {
     "data": {
      "text/plain": [
       "trip_id                       int64\n",
       "start_time           datetime64[ns]\n",
       "end_time                     object\n",
       "bikeid                        int64\n",
       "tripduration                 object\n",
       "from_station_id               int64\n",
       "from_station_name            object\n",
       "to_station_id                 int64\n",
       "to_station_name              object\n",
       "usertype                     object\n",
       "gender                       object\n",
       "birthyear                   float64\n",
       "date                 datetime64[ns]\n",
       "dtype: object"
      ]
     },
     "execution_count": 63,
     "metadata": {},
     "output_type": "execute_result"
    }
   ],
   "source": [
    "df.dtypes"
   ]
  },
  {
   "cell_type": "code",
   "execution_count": 64,
   "id": "99ab7b95-6cef-4498-b299-5ffe2d15162f",
   "metadata": {},
   "outputs": [],
   "source": [
    "# Merge dataframes\n",
    "\n",
    "df_merged = df.merge(df_temp, how = 'left', on = 'date', indicator = True)"
   ]
  },
  {
   "cell_type": "code",
   "execution_count": 65,
   "id": "79e4d225-e156-4bd8-8c15-d86cb662eb88",
   "metadata": {},
   "outputs": [
    {
     "data": {
      "text/plain": [
       "both          3603082\n",
       "left_only           0\n",
       "right_only          0\n",
       "Name: _merge, dtype: int64"
      ]
     },
     "execution_count": 65,
     "metadata": {},
     "output_type": "execute_result"
    }
   ],
   "source": [
    "df_merged['_merge'].value_counts(dropna = False)"
   ]
  },
  {
   "cell_type": "code",
   "execution_count": 66,
   "id": "db632fee-37a1-4dd7-961f-11ad909c30d8",
   "metadata": {},
   "outputs": [
    {
     "data": {
      "text/html": [
       "<div>\n",
       "<style scoped>\n",
       "    .dataframe tbody tr th:only-of-type {\n",
       "        vertical-align: middle;\n",
       "    }\n",
       "\n",
       "    .dataframe tbody tr th {\n",
       "        vertical-align: top;\n",
       "    }\n",
       "\n",
       "    .dataframe thead th {\n",
       "        text-align: right;\n",
       "    }\n",
       "</style>\n",
       "<table border=\"1\" class=\"dataframe\">\n",
       "  <thead>\n",
       "    <tr style=\"text-align: right;\">\n",
       "      <th></th>\n",
       "      <th>trip_id</th>\n",
       "      <th>start_time</th>\n",
       "      <th>end_time</th>\n",
       "      <th>bikeid</th>\n",
       "      <th>tripduration</th>\n",
       "      <th>from_station_id</th>\n",
       "      <th>from_station_name</th>\n",
       "      <th>to_station_id</th>\n",
       "      <th>to_station_name</th>\n",
       "      <th>usertype</th>\n",
       "      <th>gender</th>\n",
       "      <th>birthyear</th>\n",
       "      <th>date</th>\n",
       "      <th>avgTemp</th>\n",
       "      <th>_merge</th>\n",
       "    </tr>\n",
       "  </thead>\n",
       "  <tbody>\n",
       "    <tr>\n",
       "      <th>0</th>\n",
       "      <td>17536702</td>\n",
       "      <td>2018-01-01 00:12:00</td>\n",
       "      <td>2018-01-01 00:17:23</td>\n",
       "      <td>3304</td>\n",
       "      <td>323.0</td>\n",
       "      <td>69</td>\n",
       "      <td>Damen Ave &amp; Pierce Ave</td>\n",
       "      <td>159</td>\n",
       "      <td>Claremont Ave &amp; Hirsch St</td>\n",
       "      <td>Subscriber</td>\n",
       "      <td>Male</td>\n",
       "      <td>1988.0</td>\n",
       "      <td>2018-01-01</td>\n",
       "      <td>-18.9</td>\n",
       "      <td>both</td>\n",
       "    </tr>\n",
       "    <tr>\n",
       "      <th>1</th>\n",
       "      <td>17536703</td>\n",
       "      <td>2018-01-01 00:41:35</td>\n",
       "      <td>2018-01-01 00:47:52</td>\n",
       "      <td>5367</td>\n",
       "      <td>377.0</td>\n",
       "      <td>253</td>\n",
       "      <td>Winthrop Ave &amp; Lawrence Ave</td>\n",
       "      <td>325</td>\n",
       "      <td>Clark St &amp; Winnemac Ave (Temp)</td>\n",
       "      <td>Subscriber</td>\n",
       "      <td>Male</td>\n",
       "      <td>1984.0</td>\n",
       "      <td>2018-01-01</td>\n",
       "      <td>-18.9</td>\n",
       "      <td>both</td>\n",
       "    </tr>\n",
       "    <tr>\n",
       "      <th>2</th>\n",
       "      <td>17536704</td>\n",
       "      <td>2018-01-01 00:44:46</td>\n",
       "      <td>2018-01-01 01:33:10</td>\n",
       "      <td>4599</td>\n",
       "      <td>2,904.0</td>\n",
       "      <td>98</td>\n",
       "      <td>LaSalle St &amp; Washington St</td>\n",
       "      <td>509</td>\n",
       "      <td>Troy St &amp; North Ave</td>\n",
       "      <td>Subscriber</td>\n",
       "      <td>Male</td>\n",
       "      <td>1989.0</td>\n",
       "      <td>2018-01-01</td>\n",
       "      <td>-18.9</td>\n",
       "      <td>both</td>\n",
       "    </tr>\n",
       "    <tr>\n",
       "      <th>3</th>\n",
       "      <td>17536705</td>\n",
       "      <td>2018-01-01 00:53:10</td>\n",
       "      <td>2018-01-01 01:05:37</td>\n",
       "      <td>2302</td>\n",
       "      <td>747.0</td>\n",
       "      <td>125</td>\n",
       "      <td>Rush St &amp; Hubbard St</td>\n",
       "      <td>364</td>\n",
       "      <td>Larrabee St &amp; Oak St</td>\n",
       "      <td>Subscriber</td>\n",
       "      <td>Male</td>\n",
       "      <td>1983.0</td>\n",
       "      <td>2018-01-01</td>\n",
       "      <td>-18.9</td>\n",
       "      <td>both</td>\n",
       "    </tr>\n",
       "    <tr>\n",
       "      <th>4</th>\n",
       "      <td>17536706</td>\n",
       "      <td>2018-01-01 00:53:37</td>\n",
       "      <td>2018-01-01 00:56:40</td>\n",
       "      <td>3696</td>\n",
       "      <td>183.0</td>\n",
       "      <td>129</td>\n",
       "      <td>Blue Island Ave &amp; 18th St</td>\n",
       "      <td>205</td>\n",
       "      <td>Paulina St &amp; 18th St</td>\n",
       "      <td>Subscriber</td>\n",
       "      <td>Male</td>\n",
       "      <td>1989.0</td>\n",
       "      <td>2018-01-01</td>\n",
       "      <td>-18.9</td>\n",
       "      <td>both</td>\n",
       "    </tr>\n",
       "  </tbody>\n",
       "</table>\n",
       "</div>"
      ],
      "text/plain": [
       "    trip_id          start_time             end_time  bikeid tripduration  \\\n",
       "0  17536702 2018-01-01 00:12:00  2018-01-01 00:17:23    3304        323.0   \n",
       "1  17536703 2018-01-01 00:41:35  2018-01-01 00:47:52    5367        377.0   \n",
       "2  17536704 2018-01-01 00:44:46  2018-01-01 01:33:10    4599      2,904.0   \n",
       "3  17536705 2018-01-01 00:53:10  2018-01-01 01:05:37    2302        747.0   \n",
       "4  17536706 2018-01-01 00:53:37  2018-01-01 00:56:40    3696        183.0   \n",
       "\n",
       "   from_station_id            from_station_name  to_station_id  \\\n",
       "0               69       Damen Ave & Pierce Ave            159   \n",
       "1              253  Winthrop Ave & Lawrence Ave            325   \n",
       "2               98   LaSalle St & Washington St            509   \n",
       "3              125         Rush St & Hubbard St            364   \n",
       "4              129    Blue Island Ave & 18th St            205   \n",
       "\n",
       "                  to_station_name    usertype gender  birthyear       date  \\\n",
       "0       Claremont Ave & Hirsch St  Subscriber   Male     1988.0 2018-01-01   \n",
       "1  Clark St & Winnemac Ave (Temp)  Subscriber   Male     1984.0 2018-01-01   \n",
       "2             Troy St & North Ave  Subscriber   Male     1989.0 2018-01-01   \n",
       "3            Larrabee St & Oak St  Subscriber   Male     1983.0 2018-01-01   \n",
       "4            Paulina St & 18th St  Subscriber   Male     1989.0 2018-01-01   \n",
       "\n",
       "   avgTemp _merge  \n",
       "0    -18.9   both  \n",
       "1    -18.9   both  \n",
       "2    -18.9   both  \n",
       "3    -18.9   both  \n",
       "4    -18.9   both  "
      ]
     },
     "execution_count": 66,
     "metadata": {},
     "output_type": "execute_result"
    }
   ],
   "source": [
    "df_merged.head()"
   ]
  },
  {
   "cell_type": "code",
   "execution_count": null,
   "id": "237e0a93-2755-4cf3-9bf2-9b7a894767ba",
   "metadata": {},
   "outputs": [],
   "source": []
  }
 ],
 "metadata": {
  "kernelspec": {
   "display_name": "City_Bikes_env (Python 3.10)",
   "language": "python",
   "name": "city_bikes_env"
  },
  "language_info": {
   "codemirror_mode": {
    "name": "ipython",
    "version": 3
   },
   "file_extension": ".py",
   "mimetype": "text/x-python",
   "name": "python",
   "nbconvert_exporter": "python",
   "pygments_lexer": "ipython3",
   "version": "3.10.18"
  }
 },
 "nbformat": 4,
 "nbformat_minor": 5
}
