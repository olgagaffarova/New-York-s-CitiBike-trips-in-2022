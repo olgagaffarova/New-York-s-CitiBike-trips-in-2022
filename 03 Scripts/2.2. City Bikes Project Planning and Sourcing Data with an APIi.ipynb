{
 "cells": [
  {
   "cell_type": "code",
   "execution_count": null,
   "id": "26ed41ab-118b-4a3f-a662-33b42ebc58d7",
   "metadata": {},
   "outputs": [],
   "source": [
    "import pandas as pd\n",
    "import numpy as np\n",
    "import os\n",
    "import requests\n",
    "import json\n",
    "from datetime import datetime"
   ]
  },
  {
   "cell_type": "code",
   "execution_count": null,
   "id": "1a773587-64dd-4368-bdc7-b466e5562247",
   "metadata": {},
   "outputs": [],
   "source": [
    "# Create a list with all files in the folder using a list comprehension\n",
    "\n",
    "folderpath = r\"Data\" # make sure to put the 'r' in front\n",
    "filepath = [os.path.join(folderpath, name) for name in os.listdir(folderpath)]"
   ]
  }
 ],
 "metadata": {
  "kernelspec": {
   "display_name": "City_Bikes_env (Python 3.10)",
   "language": "python",
   "name": "city_bikes_env"
  },
  "language_info": {
   "codemirror_mode": {
    "name": "ipython",
    "version": 3
   },
   "file_extension": ".py",
   "mimetype": "text/x-python",
   "name": "python",
   "nbconvert_exporter": "python",
   "pygments_lexer": "ipython3",
   "version": "3.10.18"
  }
 },
 "nbformat": 4,
 "nbformat_minor": 5
}
