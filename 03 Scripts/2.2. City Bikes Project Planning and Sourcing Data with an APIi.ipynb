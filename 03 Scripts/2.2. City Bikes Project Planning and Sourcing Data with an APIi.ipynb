{
 "cells": [
  {
   "cell_type": "markdown",
   "id": "23290b47-c968-4481-a1b0-b0959c57e1cf",
   "metadata": {},
   "source": [
    "### This script contains the below:\n",
    "1. Import libraries\n",
    "2. Importing bike trips data\n",
    "3. Data Exploration\n",
    "4. Get weather data using NOAA's API\n",
    "5. Merge bike trip and weather data"
   ]
  },
  {
   "cell_type": "markdown",
   "id": "a1130e78-1815-47c9-bd04-9a9cc6dd82f4",
   "metadata": {},
   "source": [
    "# 01 Importing libraries"
   ]
  },
  {
   "cell_type": "code",
   "execution_count": 93,
   "id": "ee3984f8-af21-4f7f-81e4-936a6179dc1a",
   "metadata": {},
   "outputs": [],
   "source": [
    "import pandas as pd\n",
    "import numpy as np\n",
    "import os\n",
    "import requests\n",
    "import json\n",
    "from datetime import datetime"
   ]
  },
  {
   "cell_type": "markdown",
   "id": "809ebf8b-3b8d-4c96-8419-b03802570de2",
   "metadata": {},
   "source": [
    "# 02 Importing data & merge"
   ]
  },
  {
   "cell_type": "code",
   "execution_count": 94,
   "id": "333d82f3-3671-46d0-9b03-7beceaa044b0",
   "metadata": {},
   "outputs": [],
   "source": [
    "# The code below automates the process of importing and combining all monthly CitiBike CSV files for 2022.\n",
    "# 1. First, it walks through the folder \"Original Data\" and creates a list (filepaths) containing the full paths \n",
    "#    of all CSV files in the folder and its subfolders.\n",
    "# 2. Then, it uses a generator expression inside pd.concat() to read each CSV file into a temporary DataFrame.\n",
    "# 3. All these monthly DataFrames are merged (stacked vertically) into one large DataFrame called 'df'.\n",
    "# 4. The parameter 'ignore_index=True' resets the row index after concatenation, creating a clean continuous index.\n",
    "# 5. 'low_memory=False' ensures that pandas reads large CSVs more reliably when columns have mixed data types."
   ]
  },
  {
   "cell_type": "code",
   "execution_count": 95,
   "id": "fa22b393-ba75-4de1-ac46-d849787b3541",
   "metadata": {},
   "outputs": [],
   "source": [
    "# Create a list with all CSV files in the folder using a list comprehension\n",
    "# The comprehension iterates through all directories and subdirectories with os.walk(),\n",
    "# checks if each file ends with '.csv', and joins the folder path with the file name.\n",
    "\n",
    "folderpath = r'../02 Data/Original Data'\n",
    "filepaths = [\n",
    "    os.path.join(root, name)\n",
    "    for root, dirs, files in os.walk(folderpath)\n",
    "    for name in files\n",
    "    if name.endswith('.csv')\n",
    "]"
   ]
  },
  {
   "cell_type": "code",
   "execution_count": 96,
   "id": "f3d1b859-43cb-4042-bb09-97c8ce1438a1",
   "metadata": {},
   "outputs": [
    {
     "name": "stdout",
     "output_type": "stream",
     "text": [
      "36\n"
     ]
    }
   ],
   "source": [
    "print(len(filepaths))"
   ]
  },
  {
   "cell_type": "code",
   "execution_count": 97,
   "id": "48f50747-1a69-4898-af78-7156309fcab4",
   "metadata": {},
   "outputs": [
    {
     "data": {
      "text/plain": [
       "['../02 Data/Original Data/202208-citibike-tripdata_3.csv',\n",
       " '../02 Data/Original Data/202207-citibike-tripdata_2.csv',\n",
       " '../02 Data/Original Data/202207-citibike-tripdata_3.csv',\n",
       " '../02 Data/Original Data/202208-citibike-tripdata_2.csv',\n",
       " '../02 Data/Original Data/202207-citibike-tripdata_1.csv',\n",
       " '../02 Data/Original Data/202208-citibike-tripdata_1.csv',\n",
       " '../02 Data/Original Data/202210-citibike-tripdata_1.csv',\n",
       " '../02 Data/Original Data/202207-citibike-tripdata_4.csv',\n",
       " '../02 Data/Original Data/202208-citibike-tripdata_4.csv',\n",
       " '../02 Data/Original Data/202203-citibike-tripdata_2.csv',\n",
       " '../02 Data/Original Data/202210-citibike-tripdata_2.csv',\n",
       " '../02 Data/Original Data/202203-citibike-tripdata_1.csv',\n",
       " '../02 Data/Original Data/202210-citibike-tripdata_3.csv',\n",
       " '../02 Data/Original Data/202204-citibike-tripdata_1.csv',\n",
       " '../02 Data/Original Data/202204-citibike-tripdata_2.csv',\n",
       " '../02 Data/Original Data/202204-citibike-tripdata_3.csv',\n",
       " '../02 Data/Original Data/202211-citibike-tripdata_3.csv',\n",
       " '../02 Data/Original Data/202202-citibike-tripdata_1.csv',\n",
       " '../02 Data/Original Data/202211-citibike-tripdata_2.csv',\n",
       " '../02 Data/Original Data/202202-citibike-tripdata_2.csv',\n",
       " '../02 Data/Original Data/202209-citibike-tripdata_4.csv',\n",
       " '../02 Data/Original Data/202206-citibike-tripdata_4.csv',\n",
       " '../02 Data/Original Data/202211-citibike-tripdata_1.csv',\n",
       " '../02 Data/Original Data/202209-citibike-tripdata_1.csv',\n",
       " '../02 Data/Original Data/202206-citibike-tripdata_1.csv',\n",
       " '../02 Data/Original Data/202206-citibike-tripdata_3.csv',\n",
       " '../02 Data/Original Data/202209-citibike-tripdata_2.csv',\n",
       " '../02 Data/Original Data/202209-citibike-tripdata_3.csv',\n",
       " '../02 Data/Original Data/202206-citibike-tripdata_2.csv',\n",
       " '../02 Data/Original Data/202205-citibike-tripdata_3.csv',\n",
       " '../02 Data/Original Data/202205-citibike-tripdata_2.csv',\n",
       " '../02 Data/Original Data/202205-citibike-tripdata_1.csv',\n",
       " '../02 Data/Original Data/202201-citibike-tripdata_2.csv',\n",
       " '../02 Data/Original Data/202212-citibike-tripdata_1.csv',\n",
       " '../02 Data/Original Data/202201-citibike-tripdata_1.csv',\n",
       " '../02 Data/Original Data/202212-citibike-tripdata_2.csv']"
      ]
     },
     "execution_count": 97,
     "metadata": {},
     "output_type": "execute_result"
    }
   ],
   "source": [
    "filepaths"
   ]
  },
  {
   "cell_type": "code",
   "execution_count": 98,
   "id": "e8a51a31-8321-49e2-8c6a-78f6812dc414",
   "metadata": {},
   "outputs": [],
   "source": [
    "# merging the data\n",
    "df = pd.concat((pd.read_csv(f, low_memory=False) for f in filepaths), ignore_index=True)"
   ]
  },
  {
   "cell_type": "code",
   "execution_count": 99,
   "id": "3406f0f3-324a-4b63-9dce-77f7fd4fcea0",
   "metadata": {},
   "outputs": [],
   "source": [
    "# Merging the data:\n",
    "# This line uses a generator expression inside pd.concat() to combine all CSV files into one DataFrame.\n",
    "# The generator (pd.read_csv(f) for f in filepaths) loads each file one by one instead of all at once,\n",
    "# which makes the process more memory-efficient for large datasets."
   ]
  },
  {
   "cell_type": "code",
   "execution_count": 100,
   "id": "79493511-08be-4b61-996d-83f4693ff370",
   "metadata": {},
   "outputs": [
    {
     "data": {
      "text/html": [
       "<div>\n",
       "<style scoped>\n",
       "    .dataframe tbody tr th:only-of-type {\n",
       "        vertical-align: middle;\n",
       "    }\n",
       "\n",
       "    .dataframe tbody tr th {\n",
       "        vertical-align: top;\n",
       "    }\n",
       "\n",
       "    .dataframe thead th {\n",
       "        text-align: right;\n",
       "    }\n",
       "</style>\n",
       "<table border=\"1\" class=\"dataframe\">\n",
       "  <thead>\n",
       "    <tr style=\"text-align: right;\">\n",
       "      <th></th>\n",
       "      <th>ride_id</th>\n",
       "      <th>rideable_type</th>\n",
       "      <th>started_at</th>\n",
       "      <th>ended_at</th>\n",
       "      <th>start_station_name</th>\n",
       "      <th>start_station_id</th>\n",
       "      <th>end_station_name</th>\n",
       "      <th>end_station_id</th>\n",
       "      <th>start_lat</th>\n",
       "      <th>start_lng</th>\n",
       "      <th>end_lat</th>\n",
       "      <th>end_lng</th>\n",
       "      <th>member_casual</th>\n",
       "    </tr>\n",
       "  </thead>\n",
       "  <tbody>\n",
       "    <tr>\n",
       "      <th>0</th>\n",
       "      <td>9D0DC440CB40CF8E</td>\n",
       "      <td>electric_bike</td>\n",
       "      <td>2022-08-27 13:56:47.728</td>\n",
       "      <td>2022-08-27 14:02:56.651</td>\n",
       "      <td>Flatbush Ave &amp; Ocean Ave</td>\n",
       "      <td>3704.04</td>\n",
       "      <td>3 St &amp; Prospect Park West</td>\n",
       "      <td>3865.05</td>\n",
       "      <td>40.663657</td>\n",
       "      <td>-73.963014</td>\n",
       "      <td>40.668132</td>\n",
       "      <td>-73.973638</td>\n",
       "      <td>casual</td>\n",
       "    </tr>\n",
       "    <tr>\n",
       "      <th>1</th>\n",
       "      <td>2214991DFBE5C4D7</td>\n",
       "      <td>electric_bike</td>\n",
       "      <td>2022-08-20 10:37:02.756</td>\n",
       "      <td>2022-08-20 10:45:56.631</td>\n",
       "      <td>Forsyth St\\t&amp; Grand St</td>\n",
       "      <td>5382.07</td>\n",
       "      <td>E 11 St &amp; 1 Ave</td>\n",
       "      <td>5746.14</td>\n",
       "      <td>40.717798</td>\n",
       "      <td>-73.993161</td>\n",
       "      <td>40.729538</td>\n",
       "      <td>-73.984267</td>\n",
       "      <td>casual</td>\n",
       "    </tr>\n",
       "    <tr>\n",
       "      <th>2</th>\n",
       "      <td>20C5D469563B6337</td>\n",
       "      <td>classic_bike</td>\n",
       "      <td>2022-08-31 18:55:03.051</td>\n",
       "      <td>2022-08-31 19:03:37.344</td>\n",
       "      <td>Perry St &amp; Bleecker St</td>\n",
       "      <td>5922.07</td>\n",
       "      <td>Grand St &amp; Greene St</td>\n",
       "      <td>5500.02</td>\n",
       "      <td>40.735354</td>\n",
       "      <td>-74.004831</td>\n",
       "      <td>40.721700</td>\n",
       "      <td>-74.002381</td>\n",
       "      <td>member</td>\n",
       "    </tr>\n",
       "    <tr>\n",
       "      <th>3</th>\n",
       "      <td>3E8791885BC189D1</td>\n",
       "      <td>classic_bike</td>\n",
       "      <td>2022-08-02 08:05:00.250</td>\n",
       "      <td>2022-08-02 08:16:52.063</td>\n",
       "      <td>FDR Drive &amp; E 35 St</td>\n",
       "      <td>6230.04</td>\n",
       "      <td>Grand Army Plaza &amp; Central Park S</td>\n",
       "      <td>6839.10</td>\n",
       "      <td>40.744219</td>\n",
       "      <td>-73.971212</td>\n",
       "      <td>40.764397</td>\n",
       "      <td>-73.973715</td>\n",
       "      <td>member</td>\n",
       "    </tr>\n",
       "    <tr>\n",
       "      <th>4</th>\n",
       "      <td>8DBCBF98885106CB</td>\n",
       "      <td>electric_bike</td>\n",
       "      <td>2022-08-25 15:44:48.386</td>\n",
       "      <td>2022-08-25 15:55:39.691</td>\n",
       "      <td>E 40 St &amp; 5 Ave</td>\n",
       "      <td>6474.11</td>\n",
       "      <td>Ave A &amp; E 14 St</td>\n",
       "      <td>5779.11</td>\n",
       "      <td>40.752052</td>\n",
       "      <td>-73.982115</td>\n",
       "      <td>40.730311</td>\n",
       "      <td>-73.980472</td>\n",
       "      <td>member</td>\n",
       "    </tr>\n",
       "  </tbody>\n",
       "</table>\n",
       "</div>"
      ],
      "text/plain": [
       "            ride_id  rideable_type               started_at  \\\n",
       "0  9D0DC440CB40CF8E  electric_bike  2022-08-27 13:56:47.728   \n",
       "1  2214991DFBE5C4D7  electric_bike  2022-08-20 10:37:02.756   \n",
       "2  20C5D469563B6337   classic_bike  2022-08-31 18:55:03.051   \n",
       "3  3E8791885BC189D1   classic_bike  2022-08-02 08:05:00.250   \n",
       "4  8DBCBF98885106CB  electric_bike  2022-08-25 15:44:48.386   \n",
       "\n",
       "                  ended_at        start_station_name start_station_id  \\\n",
       "0  2022-08-27 14:02:56.651  Flatbush Ave & Ocean Ave          3704.04   \n",
       "1  2022-08-20 10:45:56.631    Forsyth St\\t& Grand St          5382.07   \n",
       "2  2022-08-31 19:03:37.344    Perry St & Bleecker St          5922.07   \n",
       "3  2022-08-02 08:16:52.063       FDR Drive & E 35 St          6230.04   \n",
       "4  2022-08-25 15:55:39.691           E 40 St & 5 Ave          6474.11   \n",
       "\n",
       "                    end_station_name end_station_id  start_lat  start_lng  \\\n",
       "0          3 St & Prospect Park West        3865.05  40.663657 -73.963014   \n",
       "1                    E 11 St & 1 Ave        5746.14  40.717798 -73.993161   \n",
       "2               Grand St & Greene St        5500.02  40.735354 -74.004831   \n",
       "3  Grand Army Plaza & Central Park S        6839.10  40.744219 -73.971212   \n",
       "4                    Ave A & E 14 St        5779.11  40.752052 -73.982115   \n",
       "\n",
       "     end_lat    end_lng member_casual  \n",
       "0  40.668132 -73.973638        casual  \n",
       "1  40.729538 -73.984267        casual  \n",
       "2  40.721700 -74.002381        member  \n",
       "3  40.764397 -73.973715        member  \n",
       "4  40.730311 -73.980472        member  "
      ]
     },
     "execution_count": 100,
     "metadata": {},
     "output_type": "execute_result"
    }
   ],
   "source": [
    "df.head()"
   ]
  },
  {
   "cell_type": "code",
   "execution_count": 101,
   "id": "b97b812c-782d-44c4-96ab-91c3793196df",
   "metadata": {},
   "outputs": [
    {
     "name": "stdout",
     "output_type": "stream",
     "text": [
      "Earliest start date: 2021-01-30 17:30:45.544000\n",
      "Latest start date: 2022-12-31 23:58:19.206000\n",
      "Earliest end date: 2022-01-01 00:00:09.459000\n",
      "Latest end date: 2022-12-31 23:59:55.708000\n"
     ]
    }
   ],
   "source": [
    "# Convert the columns to datetime (if not already)\n",
    "df['started_at'] = pd.to_datetime(df['started_at'])\n",
    "df['ended_at'] = pd.to_datetime(df['ended_at'])\n",
    "\n",
    "# Get the earliest and latest dates for each column\n",
    "earliest_start = df['started_at'].min()\n",
    "latest_start = df['started_at'].max()\n",
    "\n",
    "earliest_end = df['ended_at'].min()\n",
    "latest_end = df['ended_at'].max()\n",
    "\n",
    "# Print the results\n",
    "print(\"Earliest start date:\", earliest_start)\n",
    "print(\"Latest start date:\", latest_start)\n",
    "print(\"Earliest end date:\", earliest_end)\n",
    "print(\"Latest end date:\", latest_end)"
   ]
  },
  {
   "cell_type": "code",
   "execution_count": 102,
   "id": "ee9254f0-4927-4fdb-9889-12048b786b0f",
   "metadata": {},
   "outputs": [],
   "source": [
    "df2022 = df[(df['started_at'] >= '2022-01-01') & (df['started_at'] <= '2022-12-31')].copy()"
   ]
  },
  {
   "cell_type": "code",
   "execution_count": 103,
   "id": "fd06a690-8ef1-46fc-a9b1-6e39c2274f2f",
   "metadata": {},
   "outputs": [
    {
     "data": {
      "text/plain": [
       "(29806700, 13)"
      ]
     },
     "execution_count": 103,
     "metadata": {},
     "output_type": "execute_result"
    }
   ],
   "source": [
    "df2022.shape"
   ]
  },
  {
   "cell_type": "code",
   "execution_count": 104,
   "id": "e7cf2cce-ef24-4b6b-87cb-e0d4dcfb1830",
   "metadata": {},
   "outputs": [
    {
     "name": "stdout",
     "output_type": "stream",
     "text": [
      "<class 'pandas.core.frame.DataFrame'>\n",
      "Int64Index: 29806700 entries, 0 to 29838805\n",
      "Data columns (total 13 columns):\n",
      " #   Column              Dtype         \n",
      "---  ------              -----         \n",
      " 0   ride_id             object        \n",
      " 1   rideable_type       object        \n",
      " 2   started_at          datetime64[ns]\n",
      " 3   ended_at            datetime64[ns]\n",
      " 4   start_station_name  object        \n",
      " 5   start_station_id    object        \n",
      " 6   end_station_name    object        \n",
      " 7   end_station_id      object        \n",
      " 8   start_lat           float64       \n",
      " 9   start_lng           float64       \n",
      " 10  end_lat             float64       \n",
      " 11  end_lng             float64       \n",
      " 12  member_casual       object        \n",
      "dtypes: datetime64[ns](2), float64(4), object(7)\n",
      "memory usage: 3.1+ GB\n"
     ]
    }
   ],
   "source": [
    "df2022.info()"
   ]
  },
  {
   "cell_type": "code",
   "execution_count": 105,
   "id": "794b99cd-9abf-4bc8-8e03-4d815af14fea",
   "metadata": {},
   "outputs": [],
   "source": [
    "cat_cols = [\n",
    "    'rideable_type',\n",
    "    'start_station_name',\n",
    "    'start_station_id',\n",
    "    'end_station_name',\n",
    "    'end_station_id',\n",
    "    'member_casual'\n",
    "]\n",
    "\n",
    "for col in cat_cols:\n",
    "    df2022[col] = df2022[col].astype('category')"
   ]
  },
  {
   "cell_type": "code",
   "execution_count": 106,
   "id": "a737e3e8-a567-42ae-8e95-8241e6bd70ef",
   "metadata": {},
   "outputs": [],
   "source": [
    "float_cols = ['start_lat', 'start_lng', 'end_lat', 'end_lng']\n",
    "df2022[float_cols] = df2022[float_cols].apply(pd.to_numeric, downcast='float')"
   ]
  },
  {
   "cell_type": "code",
   "execution_count": 107,
   "id": "adf56d61-cf6b-404c-b62e-82273efe08d3",
   "metadata": {},
   "outputs": [
    {
     "name": "stdout",
     "output_type": "stream",
     "text": [
      "<class 'pandas.core.frame.DataFrame'>\n",
      "Int64Index: 29806700 entries, 0 to 29838805\n",
      "Data columns (total 13 columns):\n",
      " #   Column              Dtype         \n",
      "---  ------              -----         \n",
      " 0   ride_id             object        \n",
      " 1   rideable_type       category      \n",
      " 2   started_at          datetime64[ns]\n",
      " 3   ended_at            datetime64[ns]\n",
      " 4   start_station_name  category      \n",
      " 5   start_station_id    category      \n",
      " 6   end_station_name    category      \n",
      " 7   end_station_id      category      \n",
      " 8   start_lat           float32       \n",
      " 9   start_lng           float32       \n",
      " 10  end_lat             float32       \n",
      " 11  end_lng             float32       \n",
      " 12  member_casual       category      \n",
      "dtypes: category(6), datetime64[ns](2), float32(4), object(1)\n",
      "memory usage: 1.6+ GB\n"
     ]
    }
   ],
   "source": [
    "df2022.info()"
   ]
  },
  {
   "cell_type": "code",
   "execution_count": 108,
   "id": "a637c6b8-908d-4628-9d85-4b163fc926c3",
   "metadata": {},
   "outputs": [
    {
     "data": {
      "text/html": [
       "<div>\n",
       "<style scoped>\n",
       "    .dataframe tbody tr th:only-of-type {\n",
       "        vertical-align: middle;\n",
       "    }\n",
       "\n",
       "    .dataframe tbody tr th {\n",
       "        vertical-align: top;\n",
       "    }\n",
       "\n",
       "    .dataframe thead th {\n",
       "        text-align: right;\n",
       "    }\n",
       "</style>\n",
       "<table border=\"1\" class=\"dataframe\">\n",
       "  <thead>\n",
       "    <tr style=\"text-align: right;\">\n",
       "      <th></th>\n",
       "      <th>dtype</th>\n",
       "      <th>non_nulls</th>\n",
       "      <th>nulls</th>\n",
       "      <th>unique</th>\n",
       "    </tr>\n",
       "  </thead>\n",
       "  <tbody>\n",
       "    <tr>\n",
       "      <th>ride_id</th>\n",
       "      <td>object</td>\n",
       "      <td>29806700</td>\n",
       "      <td>0</td>\n",
       "      <td>29806700</td>\n",
       "    </tr>\n",
       "    <tr>\n",
       "      <th>rideable_type</th>\n",
       "      <td>category</td>\n",
       "      <td>29806700</td>\n",
       "      <td>0</td>\n",
       "      <td>2</td>\n",
       "    </tr>\n",
       "    <tr>\n",
       "      <th>started_at</th>\n",
       "      <td>datetime64[ns]</td>\n",
       "      <td>29806700</td>\n",
       "      <td>0</td>\n",
       "      <td>29801411</td>\n",
       "    </tr>\n",
       "    <tr>\n",
       "      <th>ended_at</th>\n",
       "      <td>datetime64[ns]</td>\n",
       "      <td>29806700</td>\n",
       "      <td>0</td>\n",
       "      <td>29771187</td>\n",
       "    </tr>\n",
       "    <tr>\n",
       "      <th>start_station_name</th>\n",
       "      <td>category</td>\n",
       "      <td>29806653</td>\n",
       "      <td>47</td>\n",
       "      <td>1761</td>\n",
       "    </tr>\n",
       "    <tr>\n",
       "      <th>start_station_id</th>\n",
       "      <td>category</td>\n",
       "      <td>29806653</td>\n",
       "      <td>47</td>\n",
       "      <td>3468</td>\n",
       "    </tr>\n",
       "    <tr>\n",
       "      <th>end_station_name</th>\n",
       "      <td>category</td>\n",
       "      <td>29736910</td>\n",
       "      <td>69790</td>\n",
       "      <td>1840</td>\n",
       "    </tr>\n",
       "    <tr>\n",
       "      <th>end_station_id</th>\n",
       "      <td>category</td>\n",
       "      <td>29736910</td>\n",
       "      <td>69790</td>\n",
       "      <td>1905</td>\n",
       "    </tr>\n",
       "    <tr>\n",
       "      <th>start_lat</th>\n",
       "      <td>float32</td>\n",
       "      <td>29806700</td>\n",
       "      <td>0</td>\n",
       "      <td>57135</td>\n",
       "    </tr>\n",
       "    <tr>\n",
       "      <th>start_lng</th>\n",
       "      <td>float32</td>\n",
       "      <td>29806700</td>\n",
       "      <td>0</td>\n",
       "      <td>17996</td>\n",
       "    </tr>\n",
       "    <tr>\n",
       "      <th>end_lat</th>\n",
       "      <td>float32</td>\n",
       "      <td>29769479</td>\n",
       "      <td>37221</td>\n",
       "      <td>1908</td>\n",
       "    </tr>\n",
       "    <tr>\n",
       "      <th>end_lng</th>\n",
       "      <td>float32</td>\n",
       "      <td>29769479</td>\n",
       "      <td>37221</td>\n",
       "      <td>1824</td>\n",
       "    </tr>\n",
       "    <tr>\n",
       "      <th>member_casual</th>\n",
       "      <td>category</td>\n",
       "      <td>29806700</td>\n",
       "      <td>0</td>\n",
       "      <td>2</td>\n",
       "    </tr>\n",
       "  </tbody>\n",
       "</table>\n",
       "</div>"
      ],
      "text/plain": [
       "                             dtype  non_nulls  nulls    unique\n",
       "ride_id                     object   29806700      0  29806700\n",
       "rideable_type             category   29806700      0         2\n",
       "started_at          datetime64[ns]   29806700      0  29801411\n",
       "ended_at            datetime64[ns]   29806700      0  29771187\n",
       "start_station_name        category   29806653     47      1761\n",
       "start_station_id          category   29806653     47      3468\n",
       "end_station_name          category   29736910  69790      1840\n",
       "end_station_id            category   29736910  69790      1905\n",
       "start_lat                  float32   29806700      0     57135\n",
       "start_lng                  float32   29806700      0     17996\n",
       "end_lat                    float32   29769479  37221      1908\n",
       "end_lng                    float32   29769479  37221      1824\n",
       "member_casual             category   29806700      0         2"
      ]
     },
     "execution_count": 108,
     "metadata": {},
     "output_type": "execute_result"
    }
   ],
   "source": [
    "summary = pd.DataFrame({\n",
    "    'dtype': df2022.dtypes,\n",
    "    'non_nulls': df2022.notnull().sum(),\n",
    "    'nulls': df2022.isnull().sum(),\n",
    "    'unique': df2022.nunique()\n",
    "})\n",
    "\n",
    "summary"
   ]
  },
  {
   "cell_type": "code",
   "execution_count": 109,
   "id": "f6c87166-b9a1-4f31-a641-178adffddaa7",
   "metadata": {},
   "outputs": [],
   "source": [
    "# Save the rides for the 2022 year to a pickle file\n",
    "df2022.to_pickle('df2022.pkl')"
   ]
  },
  {
   "cell_type": "markdown",
   "id": "6afe4ab5-390a-4daa-860f-543d378c79ca",
   "metadata": {},
   "source": [
    "# 03 Data exploration"
   ]
  },
  {
   "cell_type": "code",
   "execution_count": 110,
   "id": "3958c05c-935b-4ace-9ed8-4c8a30dec662",
   "metadata": {
    "scrolled": true
   },
   "outputs": [
    {
     "data": {
      "text/plain": [
       "classic_bike     18092636\n",
       "electric_bike    11714064\n",
       "Name: rideable_type, dtype: int64"
      ]
     },
     "execution_count": 110,
     "metadata": {},
     "output_type": "execute_result"
    }
   ],
   "source": [
    "# Counts of bike types\n",
    "df2022['rideable_type'].value_counts()"
   ]
  },
  {
   "cell_type": "code",
   "execution_count": 111,
   "id": "f8450d56-db7c-4258-96b3-9bc9522230be",
   "metadata": {},
   "outputs": [
    {
     "name": "stdout",
     "output_type": "stream",
     "text": [
      "\n",
      "=== Q1: Top 10 Most Popular Start Stations ===\n"
     ]
    },
    {
     "data": {
      "text/plain": [
       "W 21 St & 6 Ave            128885\n",
       "West St & Chambers St      123239\n",
       "Broadway & W 58 St         114056\n",
       "6 Ave & W 33 St            106352\n",
       "1 Ave & E 68 St            104782\n",
       "Broadway & E 14 St          98759\n",
       "Broadway & W 25 St          98344\n",
       "University Pl & E 14 St     97013\n",
       "Broadway & E 21 St          95606\n",
       "W 31 St & 7 Ave             94111\n",
       "Name: start_station_name, dtype: int64"
      ]
     },
     "metadata": {},
     "output_type": "display_data"
    },
    {
     "name": "stdout",
     "output_type": "stream",
     "text": [
      "\n",
      "=== Q1b: Top 10 Most Popular End Stations ===\n"
     ]
    },
    {
     "data": {
      "text/plain": [
       "W 21 St & 6 Ave            130014\n",
       "West St & Chambers St      124286\n",
       "Broadway & W 58 St         110063\n",
       "1 Ave & E 68 St            105040\n",
       "6 Ave & W 33 St            104827\n",
       "University Pl & E 14 St     99072\n",
       "Broadway & W 25 St          98670\n",
       "Broadway & E 14 St          98172\n",
       "Broadway & E 21 St          95423\n",
       "W 31 St & 7 Ave             94023\n",
       "Name: end_station_name, dtype: int64"
      ]
     },
     "metadata": {},
     "output_type": "display_data"
    }
   ],
   "source": [
    "# === RESEARCH QUESTIONS ===\n",
    "\n",
    "# Q1: What are the most popular stations in the city?\n",
    "print(\"\\n=== Q1: Top 10 Most Popular Start Stations ===\")\n",
    "popular_stations = df2022['start_station_name'].value_counts().head(10)\n",
    "display(popular_stations)\n",
    "\n",
    "print(\"\\n=== Q1b: Top 10 Most Popular End Stations ===\")\n",
    "popular_end_stations = df2022['end_station_name'].value_counts().head(10)\n",
    "display(popular_end_stations)"
   ]
  },
  {
   "cell_type": "markdown",
   "id": "6e0d1bc2-ff60-46f6-8ee9-1170268e99db",
   "metadata": {},
   "source": [
    "Q1. Most Popular Stations\n",
    "\n",
    "The analysis reveals a strong overlap between the most frequently used start and end stations in New York’s CitiBike network.\n",
    "W 21 St & 6 Ave stands out as the single most popular location for both trip departures and arrivals.\n",
    "\n",
    "The data highlights the central Manhattan corridor as the hub of CitiBike usage, reflecting its role as the city’s primary commuting and tourist zone."
   ]
  },
  {
   "cell_type": "code",
   "execution_count": 112,
   "id": "4ef6e645-f5d7-45a1-a243-b2c41e2da748",
   "metadata": {
    "scrolled": true
   },
   "outputs": [
    {
     "name": "stdout",
     "output_type": "stream",
     "text": [
      "\n",
      "=== Q2: Trips by Month ===\n"
     ]
    },
    {
     "data": {
      "text/plain": [
       "August       3576182\n",
       "September    3411909\n",
       "July         3397722\n",
       "June         3344145\n",
       "October      2935959\n",
       "May          2865301\n",
       "November     2386350\n",
       "April        2261339\n",
       "March        1846035\n",
       "December     1560344\n",
       "February     1197359\n",
       "January      1024055\n",
       "Name: month, dtype: int64"
      ]
     },
     "metadata": {},
     "output_type": "display_data"
    }
   ],
   "source": [
    "# Q2: Which are the months with the most trips taken?\n",
    "# Create a month column\n",
    "df2022['month'] = df2022['started_at'].dt.month_name()\n",
    "\n",
    "print(\"\\n=== Q2: Trips by Month ===\")\n",
    "trips_by_month = df2022['month'].value_counts()\n",
    "display(trips_by_month)"
   ]
  },
  {
   "cell_type": "markdown",
   "id": "f86aad5b-d51d-49d8-a17e-6cad68c5fd02",
   "metadata": {},
   "source": [
    "The data suggests that summer and early autumn represent the core operating season for the CitiBike network, while winter months show reduced demand."
   ]
  },
  {
   "cell_type": "code",
   "execution_count": 113,
   "id": "e592cf0b-29ff-4304-b0b3-7e7ec1577741",
   "metadata": {},
   "outputs": [
    {
     "name": "stdout",
     "output_type": "stream",
     "text": [
      "\n",
      "=== Q3: Top 10 Most Common Start→End Station Pairs ===\n"
     ]
    },
    {
     "data": {
      "text/plain": [
       "start_station_name                 end_station_name                 \n",
       "Central Park S & 6 Ave             Central Park S & 6 Ave               12041\n",
       "7 Ave & Central Park South         7 Ave & Central Park South            8541\n",
       "Roosevelt Island Tramway           Roosevelt Island Tramway              8211\n",
       "Soissons Landing                   Soissons Landing                      7275\n",
       "Grand Army Plaza & Central Park S  Grand Army Plaza & Central Park S     7259\n",
       "W 21 St & 6 Ave                    9 Ave & W 22 St                       6336\n",
       "5 Ave & E 72 St                    5 Ave & E 72 St                       6031\n",
       "1 Ave & E 62 St                    1 Ave & E 68 St                       5818\n",
       "Yankee Ferry Terminal              Yankee Ferry Terminal                 5759\n",
       "Broadway & W 58 St                 Broadway & W 58 St                    5475\n",
       "dtype: int64"
      ]
     },
     "metadata": {},
     "output_type": "display_data"
    }
   ],
   "source": [
    "# Q3: What are the most popular trips between stations?\n",
    "print(\"\\n=== Q3: Top 10 Most Common Start→End Station Pairs ===\")\n",
    "popular_routes = (\n",
    "    df2022.groupby(['start_station_name', 'end_station_name'])\n",
    "    .size()\n",
    "    .sort_values(ascending=False)\n",
    "    .head(10)\n",
    ")\n",
    "display(popular_routes)"
   ]
  },
  {
   "cell_type": "markdown",
   "id": "9aa4c78a-05a3-4249-885c-ef6598ac0ac0",
   "metadata": {},
   "source": [
    "The data highlights Central Park and Roosevelt Island as dominant recreational cycling areas"
   ]
  },
  {
   "cell_type": "code",
   "execution_count": 114,
   "id": "386a3fe3-9691-4a90-b56d-0bd88bb71d01",
   "metadata": {},
   "outputs": [
    {
     "name": "stdout",
     "output_type": "stream",
     "text": [
      "\n",
      "=== Q4: Station Geographic Distribution ===\n",
      "Start stations latitude range: 40.62737 - 40.88398\n",
      "Start stations longitude range: -74.028015 - -73.878586\n",
      "Number of unique start stations: 3468\n",
      "Number of unique end stations: 1905\n"
     ]
    }
   ],
   "source": [
    "# Q4: Are the existing stations evenly distributed?\n",
    "# Check the geographic spread using latitude/longitude ranges\n",
    "print(\"\\n=== Q4: Station Geographic Distribution ===\")\n",
    "print(\"Start stations latitude range:\", df2022['start_lat'].min(), \"-\", df2022['start_lat'].max())\n",
    "print(\"Start stations longitude range:\", df2022['start_lng'].min(), \"-\", df2022['start_lng'].max())\n",
    "\n",
    "print(\"Number of unique start stations:\", df2022['start_station_id'].nunique())\n",
    "print(\"Number of unique end stations:\", df2022['end_station_id'].nunique())"
   ]
  },
  {
   "cell_type": "markdown",
   "id": "623a7329-7be2-4928-8d4f-5612e5a91ec5",
   "metadata": {},
   "source": [
    "Summary: Station Geographic Distribution (2022)\n",
    "\n",
    "CitiBike stations in 2022 were widely distributed across New York City, covering a latitude range from 40.63° to 40.88° and a longitude range from –74.03° to –73.88°.\n",
    "\n",
    "This area spans from southern Brooklyn and Jersey City up to northern Manhattan and the Bronx, reflecting the network’s broad urban coverage.\n",
    "\n",
    "There were 3,468 unique start stations and 1,904 unique end stations, suggesting some newly installed or temporarily inactive stations may not yet appear in both categories.\n",
    "\n",
    "Overall, the data shows that CitiBike’s infrastructure is densely concentrated in central areas but extends across multiple boroughs, supporting both commuter and recreational use across the city."
   ]
  },
  {
   "cell_type": "markdown",
   "id": "287206b2-c11a-415d-849b-1c7a5f256c7b",
   "metadata": {},
   "source": [
    "# 04 Obtain weather data from New York LaGuardia’s weather station for 2022 and export it to a CSV file."
   ]
  },
  {
   "cell_type": "code",
   "execution_count": 115,
   "id": "94aed3b7-dd65-4816-a7cf-e9952da0046b",
   "metadata": {},
   "outputs": [],
   "source": [
    "# Define your NOAA token\n",
    "\n",
    "Token = 'HLPKfjkSRPFNvFLMQBdRxcFpoojZoEwc'"
   ]
  },
  {
   "cell_type": "code",
   "execution_count": 116,
   "id": "dbc1f320-0f7b-4c50-be25-1378bf77b48d",
   "metadata": {},
   "outputs": [
    {
     "name": "stdout",
     "output_type": "stream",
     "text": [
      "Winter part 1 (Jan–Feb): 200\n",
      "Winter part 2 (Dec): 200\n",
      "Spring (Mar–May): 200\n",
      "Summer (Jun–Aug): 200\n",
      "Fall (Sep–Nov): 200\n"
     ]
    }
   ],
   "source": [
    "import requests\n",
    "\n",
    "# --- WINTER (January–February + December 2022) ---\n",
    "url_winter_1 = (\n",
    "    \"https://www.ncdc.noaa.gov/cdo-web/api/v2/data\"\n",
    "    \"?datasetid=GHCND\"\n",
    "    \"&stationid=GHCND:USW00014732\"\n",
    "    \"&datatypeid=TAVG\"   # mean daily temperature\n",
    "    \"&datatypeid=TMAX\"   # max daily temperature\n",
    "    \"&datatypeid=TMIN\"   # min daily temperature\n",
    "    \"&datatypeid=PRCP\"   # daily precipitation\n",
    "    \"&datatypeid=AWND\"   # average wind speed\n",
    "    \"&startdate=2022-01-01\"\n",
    "    \"&enddate=2022-02-28\"\n",
    "    \"&limit=1000\"\n",
    ")\n",
    "r_winter_1 = requests.get(url_winter_1, headers={\"token\": Token})\n",
    "print(\"Winter part 1 (Jan–Feb):\", r_winter_1.status_code)\n",
    "\n",
    "url_winter_2 = (\n",
    "    \"https://www.ncdc.noaa.gov/cdo-web/api/v2/data\"\n",
    "    \"?datasetid=GHCND\"\n",
    "    \"&stationid=GHCND:USW00014732\"\n",
    "    \"&datatypeid=TAVG\"\n",
    "    \"&datatypeid=TMAX\"\n",
    "    \"&datatypeid=TMIN\"\n",
    "    \"&datatypeid=PRCP\"\n",
    "    \"&datatypeid=AWND\"\n",
    "    \"&startdate=2022-12-01\"\n",
    "    \"&enddate=2022-12-31\"\n",
    "    \"&limit=1000\"\n",
    ")\n",
    "r_winter_2 = requests.get(url_winter_2, headers={\"token\": Token})\n",
    "print(\"Winter part 2 (Dec):\", r_winter_2.status_code)\n",
    "\n",
    "\n",
    "# --- SPRING (March–May 2022) ---\n",
    "url_spring = (\n",
    "    \"https://www.ncdc.noaa.gov/cdo-web/api/v2/data\"\n",
    "    \"?datasetid=GHCND\"\n",
    "    \"&stationid=GHCND:USW00014732\"\n",
    "    \"&datatypeid=TAVG\"\n",
    "    \"&datatypeid=TMAX\"\n",
    "    \"&datatypeid=TMIN\"\n",
    "    \"&datatypeid=PRCP\"\n",
    "    \"&datatypeid=AWND\"\n",
    "    \"&startdate=2022-03-01\"\n",
    "    \"&enddate=2022-05-31\"\n",
    "    \"&limit=1000\"\n",
    ")\n",
    "r_spring = requests.get(url_spring, headers={\"token\": Token})\n",
    "print(\"Spring (Mar–May):\", r_spring.status_code)\n",
    "\n",
    "\n",
    "# --- SUMMER (June–August 2022) ---\n",
    "url_summer = (\n",
    "    \"https://www.ncdc.noaa.gov/cdo-web/api/v2/data\"\n",
    "    \"?datasetid=GHCND\"\n",
    "    \"&stationid=GHCND:USW00014732\"\n",
    "    \"&datatypeid=TAVG\"\n",
    "    \"&datatypeid=TMAX\"\n",
    "    \"&datatypeid=TMIN\"\n",
    "    \"&datatypeid=PRCP\"\n",
    "    \"&datatypeid=AWND\"\n",
    "    \"&startdate=2022-06-01\"\n",
    "    \"&enddate=2022-08-31\"\n",
    "    \"&limit=1000\"\n",
    ")\n",
    "r_summer = requests.get(url_summer, headers={\"token\": Token})\n",
    "print(\"Summer (Jun–Aug):\", r_summer.status_code)\n",
    "\n",
    "\n",
    "# --- FALL (September–November 2022) ---\n",
    "url_fall = (\n",
    "    \"https://www.ncdc.noaa.gov/cdo-web/api/v2/data\"\n",
    "    \"?datasetid=GHCND\"\n",
    "    \"&stationid=GHCND:USW00014732\"\n",
    "    \"&datatypeid=TAVG\"\n",
    "    \"&datatypeid=TMAX\"\n",
    "    \"&datatypeid=TMIN\"\n",
    "    \"&datatypeid=PRCP\"\n",
    "    \"&datatypeid=AWND\"\n",
    "    \"&startdate=2022-09-01\"\n",
    "    \"&enddate=2022-11-30\"\n",
    "    \"&limit=1000\"\n",
    ")\n",
    "r_fall = requests.get(url_fall, headers={\"token\": Token})\n",
    "print(\"Fall (Sep–Nov):\", r_fall.status_code)"
   ]
  },
  {
   "cell_type": "code",
   "execution_count": 117,
   "id": "719ac9e8-7113-45be-82a9-35dd304191ad",
   "metadata": {
    "scrolled": true
   },
   "outputs": [
    {
     "name": "stdout",
     "output_type": "stream",
     "text": [
      "✅ Total records collected: 1825\n",
      "                  date datatype            station attributes  value\n",
      "0  2022-01-01T00:00:00     AWND  GHCND:USW00014732       ,,W,     28\n",
      "1  2022-01-01T00:00:00     PRCP  GHCND:USW00014732   ,,W,2400    193\n",
      "2  2022-01-01T00:00:00     TAVG  GHCND:USW00014732      H,,S,    116\n",
      "3  2022-01-01T00:00:00     TMAX  GHCND:USW00014732   ,,W,2400    139\n",
      "4  2022-01-01T00:00:00     TMIN  GHCND:USW00014732   ,,W,2400    100\n"
     ]
    }
   ],
   "source": [
    "# Combine all JSON results into one list\n",
    "all_results = (\n",
    "    r_winter_1.json()['results'] +\n",
    "    r_winter_2.json()['results'] +\n",
    "    r_spring.json()['results'] +\n",
    "    r_summer.json()['results'] +\n",
    "    r_fall.json()['results']\n",
    ")\n",
    "\n",
    "# Convert to a DataFrame\n",
    "weather_raw = pd.DataFrame(all_results)\n",
    "\n",
    "# Check structure\n",
    "print(\"✅ Total records collected:\", len(weather_raw))\n",
    "print(weather_raw.head())"
   ]
  },
  {
   "cell_type": "code",
   "execution_count": 118,
   "id": "8e4266f1-22ff-4dcd-bdbd-9832cee18dbd",
   "metadata": {},
   "outputs": [
    {
     "name": "stdout",
     "output_type": "stream",
     "text": [
      "✅ Weather DataFrame created: (365, 6)\n",
      "datatype       date  avgTemp  temp_max  temp_min  total_precipitation  \\\n",
      "0        2022-01-01     11.6      13.9      10.0                 19.3   \n",
      "1        2022-01-02     11.4      15.6       3.9                  1.0   \n",
      "2        2022-01-03      1.4       3.9      -4.3                  0.0   \n",
      "3        2022-01-04     -2.7       2.2      -6.0                  0.0   \n",
      "4        2022-01-05      3.2       8.9       0.0                  6.1   \n",
      "\n",
      "datatype  wind_speed  \n",
      "0                2.8  \n",
      "1                4.3  \n",
      "2                6.4  \n",
      "3                3.9  \n",
      "4                3.4  \n"
     ]
    }
   ],
   "source": [
    "# Pivot the raw table: each datatype becomes a column\n",
    "weather_df = weather_raw.pivot(index='date', columns='datatype', values='value').reset_index()\n",
    "\n",
    "# Rename columns for clarity\n",
    "weather_df.rename(columns={\n",
    "    'TAVG': 'avgTemp_tenthsC',\n",
    "    'TMAX': 'temp_max_tenthsC',\n",
    "    'TMIN': 'temp_min_tenthsC',\n",
    "    'PRCP': 'total_precip_tenthsMM',\n",
    "    'AWND': 'wind_speed_tenthsMS'\n",
    "}, inplace=True)\n",
    "\n",
    "# Convert NOAA \"tenths\" units to normal numeric units\n",
    "weather_df['avgTemp'] = weather_df['avgTemp_tenthsC'] / 10     # °C\n",
    "weather_df['temp_max'] = weather_df['temp_max_tenthsC'] / 10   # °C\n",
    "weather_df['temp_min'] = weather_df['temp_min_tenthsC'] / 10   # °C\n",
    "weather_df['total_precipitation'] = weather_df['total_precip_tenthsMM'] / 10  # mm\n",
    "weather_df['wind_speed'] = weather_df['wind_speed_tenthsMS'] / 10             # m/s\n",
    "\n",
    "# Keep only the useful columns\n",
    "weather_df = weather_df[['date', 'avgTemp', 'temp_max', 'temp_min', 'total_precipitation', 'wind_speed']]\n",
    "\n",
    "# Convert date to datetime and sort\n",
    "weather_df['date'] = pd.to_datetime(weather_df['date'])\n",
    "weather_df = weather_df.sort_values('date').reset_index(drop=True)\n",
    "\n",
    "# Check result\n",
    "print(\"✅ Weather DataFrame created:\", weather_df.shape)\n",
    "print(weather_df.head())"
   ]
  },
  {
   "cell_type": "code",
   "execution_count": 119,
   "id": "ef5ee0e2-4f1a-4200-9f4f-7cfa63c5d2ad",
   "metadata": {},
   "outputs": [
    {
     "data": {
      "text/plain": [
       "(365, 6)"
      ]
     },
     "execution_count": 119,
     "metadata": {},
     "output_type": "execute_result"
    }
   ],
   "source": [
    "weather_df.shape"
   ]
  },
  {
   "cell_type": "code",
   "execution_count": 120,
   "id": "0405e121-548a-4e29-90fb-6308b4c96a73",
   "metadata": {},
   "outputs": [
    {
     "data": {
      "text/html": [
       "<div>\n",
       "<style scoped>\n",
       "    .dataframe tbody tr th:only-of-type {\n",
       "        vertical-align: middle;\n",
       "    }\n",
       "\n",
       "    .dataframe tbody tr th {\n",
       "        vertical-align: top;\n",
       "    }\n",
       "\n",
       "    .dataframe thead th {\n",
       "        text-align: right;\n",
       "    }\n",
       "</style>\n",
       "<table border=\"1\" class=\"dataframe\">\n",
       "  <thead>\n",
       "    <tr style=\"text-align: right;\">\n",
       "      <th>datatype</th>\n",
       "      <th>date</th>\n",
       "      <th>avgTemp</th>\n",
       "      <th>temp_max</th>\n",
       "      <th>temp_min</th>\n",
       "      <th>total_precipitation</th>\n",
       "      <th>wind_speed</th>\n",
       "    </tr>\n",
       "  </thead>\n",
       "  <tbody>\n",
       "    <tr>\n",
       "      <th>0</th>\n",
       "      <td>2022-01-01</td>\n",
       "      <td>11.6</td>\n",
       "      <td>13.9</td>\n",
       "      <td>10.0</td>\n",
       "      <td>19.3</td>\n",
       "      <td>2.8</td>\n",
       "    </tr>\n",
       "    <tr>\n",
       "      <th>1</th>\n",
       "      <td>2022-01-02</td>\n",
       "      <td>11.4</td>\n",
       "      <td>15.6</td>\n",
       "      <td>3.9</td>\n",
       "      <td>1.0</td>\n",
       "      <td>4.3</td>\n",
       "    </tr>\n",
       "    <tr>\n",
       "      <th>2</th>\n",
       "      <td>2022-01-03</td>\n",
       "      <td>1.4</td>\n",
       "      <td>3.9</td>\n",
       "      <td>-4.3</td>\n",
       "      <td>0.0</td>\n",
       "      <td>6.4</td>\n",
       "    </tr>\n",
       "    <tr>\n",
       "      <th>3</th>\n",
       "      <td>2022-01-04</td>\n",
       "      <td>-2.7</td>\n",
       "      <td>2.2</td>\n",
       "      <td>-6.0</td>\n",
       "      <td>0.0</td>\n",
       "      <td>3.9</td>\n",
       "    </tr>\n",
       "    <tr>\n",
       "      <th>4</th>\n",
       "      <td>2022-01-05</td>\n",
       "      <td>3.2</td>\n",
       "      <td>8.9</td>\n",
       "      <td>0.0</td>\n",
       "      <td>6.1</td>\n",
       "      <td>3.4</td>\n",
       "    </tr>\n",
       "  </tbody>\n",
       "</table>\n",
       "</div>"
      ],
      "text/plain": [
       "datatype       date  avgTemp  temp_max  temp_min  total_precipitation  \\\n",
       "0        2022-01-01     11.6      13.9      10.0                 19.3   \n",
       "1        2022-01-02     11.4      15.6       3.9                  1.0   \n",
       "2        2022-01-03      1.4       3.9      -4.3                  0.0   \n",
       "3        2022-01-04     -2.7       2.2      -6.0                  0.0   \n",
       "4        2022-01-05      3.2       8.9       0.0                  6.1   \n",
       "\n",
       "datatype  wind_speed  \n",
       "0                2.8  \n",
       "1                4.3  \n",
       "2                6.4  \n",
       "3                3.9  \n",
       "4                3.4  "
      ]
     },
     "execution_count": 120,
     "metadata": {},
     "output_type": "execute_result"
    }
   ],
   "source": [
    "weather_df.head()"
   ]
  },
  {
   "cell_type": "code",
   "execution_count": 121,
   "id": "9000cf76-99da-4202-844b-e764b11f38f7",
   "metadata": {},
   "outputs": [],
   "source": [
    "weather_df.columns.name = None"
   ]
  },
  {
   "cell_type": "code",
   "execution_count": 122,
   "id": "3488041b-2d9e-4411-92a9-d8a3031949fe",
   "metadata": {},
   "outputs": [
    {
     "data": {
      "text/html": [
       "<div>\n",
       "<style scoped>\n",
       "    .dataframe tbody tr th:only-of-type {\n",
       "        vertical-align: middle;\n",
       "    }\n",
       "\n",
       "    .dataframe tbody tr th {\n",
       "        vertical-align: top;\n",
       "    }\n",
       "\n",
       "    .dataframe thead th {\n",
       "        text-align: right;\n",
       "    }\n",
       "</style>\n",
       "<table border=\"1\" class=\"dataframe\">\n",
       "  <thead>\n",
       "    <tr style=\"text-align: right;\">\n",
       "      <th></th>\n",
       "      <th>date</th>\n",
       "      <th>avgTemp</th>\n",
       "      <th>temp_max</th>\n",
       "      <th>temp_min</th>\n",
       "      <th>total_precipitation</th>\n",
       "      <th>wind_speed</th>\n",
       "    </tr>\n",
       "  </thead>\n",
       "  <tbody>\n",
       "    <tr>\n",
       "      <th>0</th>\n",
       "      <td>2022-01-01</td>\n",
       "      <td>11.6</td>\n",
       "      <td>13.9</td>\n",
       "      <td>10.0</td>\n",
       "      <td>19.3</td>\n",
       "      <td>2.8</td>\n",
       "    </tr>\n",
       "    <tr>\n",
       "      <th>1</th>\n",
       "      <td>2022-01-02</td>\n",
       "      <td>11.4</td>\n",
       "      <td>15.6</td>\n",
       "      <td>3.9</td>\n",
       "      <td>1.0</td>\n",
       "      <td>4.3</td>\n",
       "    </tr>\n",
       "    <tr>\n",
       "      <th>2</th>\n",
       "      <td>2022-01-03</td>\n",
       "      <td>1.4</td>\n",
       "      <td>3.9</td>\n",
       "      <td>-4.3</td>\n",
       "      <td>0.0</td>\n",
       "      <td>6.4</td>\n",
       "    </tr>\n",
       "    <tr>\n",
       "      <th>3</th>\n",
       "      <td>2022-01-04</td>\n",
       "      <td>-2.7</td>\n",
       "      <td>2.2</td>\n",
       "      <td>-6.0</td>\n",
       "      <td>0.0</td>\n",
       "      <td>3.9</td>\n",
       "    </tr>\n",
       "    <tr>\n",
       "      <th>4</th>\n",
       "      <td>2022-01-05</td>\n",
       "      <td>3.2</td>\n",
       "      <td>8.9</td>\n",
       "      <td>0.0</td>\n",
       "      <td>6.1</td>\n",
       "      <td>3.4</td>\n",
       "    </tr>\n",
       "  </tbody>\n",
       "</table>\n",
       "</div>"
      ],
      "text/plain": [
       "        date  avgTemp  temp_max  temp_min  total_precipitation  wind_speed\n",
       "0 2022-01-01     11.6      13.9      10.0                 19.3         2.8\n",
       "1 2022-01-02     11.4      15.6       3.9                  1.0         4.3\n",
       "2 2022-01-03      1.4       3.9      -4.3                  0.0         6.4\n",
       "3 2022-01-04     -2.7       2.2      -6.0                  0.0         3.9\n",
       "4 2022-01-05      3.2       8.9       0.0                  6.1         3.4"
      ]
     },
     "execution_count": 122,
     "metadata": {},
     "output_type": "execute_result"
    }
   ],
   "source": [
    "weather_df.head()"
   ]
  },
  {
   "cell_type": "code",
   "execution_count": 124,
   "id": "70ef1a1a-9fbb-4384-8d70-89492309a001",
   "metadata": {},
   "outputs": [],
   "source": [
    "# Save the cleaned temperature data to CSV\n",
    "weather_df.to_csv('LaGuardia_Weather_2022_2.0.csv', index=False)"
   ]
  },
  {
   "cell_type": "markdown",
   "id": "cbdee7f4-7ec1-4f7e-9421-a5e7cc3bee4b",
   "metadata": {},
   "source": [
    "# 05 Merge bike trip and weather data"
   ]
  },
  {
   "cell_type": "code",
   "execution_count": 125,
   "id": "0d2e87d5-96f3-4aa0-89a1-04f9370e1018",
   "metadata": {},
   "outputs": [
    {
     "data": {
      "text/plain": [
       "ride_id                       object\n",
       "rideable_type               category\n",
       "started_at            datetime64[ns]\n",
       "ended_at              datetime64[ns]\n",
       "start_station_name          category\n",
       "start_station_id            category\n",
       "end_station_name            category\n",
       "end_station_id              category\n",
       "start_lat                    float32\n",
       "start_lng                    float32\n",
       "end_lat                      float32\n",
       "end_lng                      float32\n",
       "member_casual               category\n",
       "month                         object\n",
       "dtype: object"
      ]
     },
     "execution_count": 125,
     "metadata": {},
     "output_type": "execute_result"
    }
   ],
   "source": [
    "df2022.dtypes"
   ]
  },
  {
   "cell_type": "code",
   "execution_count": 126,
   "id": "5394a14b-dcc5-400f-bf92-a99194ad4e03",
   "metadata": {},
   "outputs": [],
   "source": [
    "# Extract only the date part (YYYY-MM-DD) from 'started_at' into a new column\n",
    "\n",
    "df2022['date'] = pd.to_datetime(df2022['started_at'], format='%Y-%m-%d').dt.date"
   ]
  },
  {
   "cell_type": "code",
   "execution_count": 127,
   "id": "8494a0af-9525-4883-bd81-d48ff4660bc3",
   "metadata": {},
   "outputs": [],
   "source": [
    "# Convert 'date' from string to datetime\n",
    "\n",
    "df2022['date'] = pd.to_datetime(df2022['date'])"
   ]
  },
  {
   "cell_type": "code",
   "execution_count": 128,
   "id": "d28bdf89-4a5f-4f0f-9132-756e229b0367",
   "metadata": {},
   "outputs": [
    {
     "data": {
      "text/plain": [
       "ride_id                       object\n",
       "rideable_type               category\n",
       "started_at            datetime64[ns]\n",
       "ended_at              datetime64[ns]\n",
       "start_station_name          category\n",
       "start_station_id            category\n",
       "end_station_name            category\n",
       "end_station_id              category\n",
       "start_lat                    float32\n",
       "start_lng                    float32\n",
       "end_lat                      float32\n",
       "end_lng                      float32\n",
       "member_casual               category\n",
       "month                         object\n",
       "date                  datetime64[ns]\n",
       "dtype: object"
      ]
     },
     "execution_count": 128,
     "metadata": {},
     "output_type": "execute_result"
    }
   ],
   "source": [
    "df2022.dtypes"
   ]
  },
  {
   "cell_type": "code",
   "execution_count": 129,
   "id": "d1f28189-d352-4aef-a527-13560f5d2b92",
   "metadata": {},
   "outputs": [],
   "source": [
    "# Merge dataframes\n",
    "\n",
    "df_merged = df2022.merge(weather_df, how = 'left', on = 'date', indicator = True)"
   ]
  },
  {
   "cell_type": "code",
   "execution_count": 130,
   "id": "decf04c4-732f-437c-87c7-f8ed2043fafb",
   "metadata": {},
   "outputs": [
    {
     "data": {
      "text/plain": [
       "both          29806700\n",
       "left_only            0\n",
       "right_only           0\n",
       "Name: _merge, dtype: int64"
      ]
     },
     "execution_count": 130,
     "metadata": {},
     "output_type": "execute_result"
    }
   ],
   "source": [
    "df_merged['_merge'].value_counts(dropna = False)"
   ]
  },
  {
   "cell_type": "code",
   "execution_count": 131,
   "id": "8a14e915-54d9-4c44-85f3-6c119bca3b2a",
   "metadata": {},
   "outputs": [],
   "source": [
    "# Save the merged df to pickle\n",
    "df_merged.to_pickle('df_merged_2.0.pkl')"
   ]
  },
  {
   "cell_type": "code",
   "execution_count": 132,
   "id": "9810fec4-3040-4196-b392-20f2254c96b3",
   "metadata": {},
   "outputs": [
    {
     "data": {
      "text/plain": [
       "Index(['ride_id', 'rideable_type', 'started_at', 'ended_at',\n",
       "       'start_station_name', 'start_station_id', 'end_station_name',\n",
       "       'end_station_id', 'start_lat', 'start_lng', 'end_lat', 'end_lng',\n",
       "       'member_casual', 'month', 'date', 'avgTemp', 'temp_max', 'temp_min',\n",
       "       'total_precipitation', 'wind_speed', '_merge'],\n",
       "      dtype='object')"
      ]
     },
     "execution_count": 132,
     "metadata": {},
     "output_type": "execute_result"
    }
   ],
   "source": [
    "df_merged.columns"
   ]
  },
  {
   "cell_type": "code",
   "execution_count": null,
   "id": "3fec5f22-81aa-4414-861b-0cd992e11114",
   "metadata": {},
   "outputs": [],
   "source": []
  }
 ],
 "metadata": {
  "kernelspec": {
   "display_name": "City_Bikes_env (Python 3.10)",
   "language": "python",
   "name": "city_bikes_env"
  },
  "language_info": {
   "codemirror_mode": {
    "name": "ipython",
    "version": 3
   },
   "file_extension": ".py",
   "mimetype": "text/x-python",
   "name": "python",
   "nbconvert_exporter": "python",
   "pygments_lexer": "ipython3",
   "version": "3.10.18"
  }
 },
 "nbformat": 4,
 "nbformat_minor": 5
}
