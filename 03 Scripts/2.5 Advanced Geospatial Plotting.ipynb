{
 "cells": [
  {
   "cell_type": "code",
   "execution_count": 118,
   "id": "06598aa9-217f-45ac-b817-dacbe8413cdc",
   "metadata": {
    "tags": []
   },
   "outputs": [],
   "source": [
    "import pandas as pd\n",
    "import os\n",
    "from keplergl import KeplerGl\n",
    "from pyproj import CRS\n",
    "import numpy as np\n",
    "from matplotlib import pyplot as plt"
   ]
  },
  {
   "cell_type": "code",
   "execution_count": 119,
   "id": "6436dbb9-60d0-4d29-b425-0f9c63b5647f",
   "metadata": {
    "tags": []
   },
   "outputs": [],
   "source": [
    "# Load only the essential columns for Kepler OD map\n",
    "essential_cols = ['start_station_name', 'end_station_name', 'start_lat', 'start_lng', 'end_lat', 'end_lng']\n",
    "\n",
    "df = pd.read_pickle(r'../02 Data/df_merged_3.0.pkl')[essential_cols]"
   ]
  },
  {
   "cell_type": "code",
   "execution_count": 120,
   "id": "3f8cac09-0045-43a5-8fee-8e542b2410e6",
   "metadata": {
    "tags": []
   },
   "outputs": [
    {
     "data": {
      "text/html": [
       "<div>\n",
       "<style scoped>\n",
       "    .dataframe tbody tr th:only-of-type {\n",
       "        vertical-align: middle;\n",
       "    }\n",
       "\n",
       "    .dataframe tbody tr th {\n",
       "        vertical-align: top;\n",
       "    }\n",
       "\n",
       "    .dataframe thead th {\n",
       "        text-align: right;\n",
       "    }\n",
       "</style>\n",
       "<table border=\"1\" class=\"dataframe\">\n",
       "  <thead>\n",
       "    <tr style=\"text-align: right;\">\n",
       "      <th></th>\n",
       "      <th>start_station_name</th>\n",
       "      <th>end_station_name</th>\n",
       "      <th>start_lat</th>\n",
       "      <th>start_lng</th>\n",
       "      <th>end_lat</th>\n",
       "      <th>end_lng</th>\n",
       "    </tr>\n",
       "  </thead>\n",
       "  <tbody>\n",
       "    <tr>\n",
       "      <th>0</th>\n",
       "      <td>Flatbush Ave &amp; Ocean Ave</td>\n",
       "      <td>3 St &amp; Prospect Park West</td>\n",
       "      <td>40.663658</td>\n",
       "      <td>-73.963013</td>\n",
       "      <td>40.668133</td>\n",
       "      <td>-73.973640</td>\n",
       "    </tr>\n",
       "    <tr>\n",
       "      <th>1</th>\n",
       "      <td>Forsyth St\\t&amp; Grand St</td>\n",
       "      <td>E 11 St &amp; 1 Ave</td>\n",
       "      <td>40.717796</td>\n",
       "      <td>-73.993164</td>\n",
       "      <td>40.729538</td>\n",
       "      <td>-73.984268</td>\n",
       "    </tr>\n",
       "    <tr>\n",
       "      <th>2</th>\n",
       "      <td>Perry St &amp; Bleecker St</td>\n",
       "      <td>Grand St &amp; Greene St</td>\n",
       "      <td>40.735355</td>\n",
       "      <td>-74.004829</td>\n",
       "      <td>40.721699</td>\n",
       "      <td>-74.002380</td>\n",
       "    </tr>\n",
       "    <tr>\n",
       "      <th>3</th>\n",
       "      <td>FDR Drive &amp; E 35 St</td>\n",
       "      <td>Grand Army Plaza &amp; Central Park S</td>\n",
       "      <td>40.744221</td>\n",
       "      <td>-73.971214</td>\n",
       "      <td>40.764397</td>\n",
       "      <td>-73.973717</td>\n",
       "    </tr>\n",
       "    <tr>\n",
       "      <th>4</th>\n",
       "      <td>E 40 St &amp; 5 Ave</td>\n",
       "      <td>Ave A &amp; E 14 St</td>\n",
       "      <td>40.752052</td>\n",
       "      <td>-73.982117</td>\n",
       "      <td>40.730312</td>\n",
       "      <td>-73.980469</td>\n",
       "    </tr>\n",
       "  </tbody>\n",
       "</table>\n",
       "</div>"
      ],
      "text/plain": [
       "         start_station_name                   end_station_name  start_lat  \\\n",
       "0  Flatbush Ave & Ocean Ave          3 St & Prospect Park West  40.663658   \n",
       "1    Forsyth St\\t& Grand St                    E 11 St & 1 Ave  40.717796   \n",
       "2    Perry St & Bleecker St               Grand St & Greene St  40.735355   \n",
       "3       FDR Drive & E 35 St  Grand Army Plaza & Central Park S  40.744221   \n",
       "4           E 40 St & 5 Ave                    Ave A & E 14 St  40.752052   \n",
       "\n",
       "   start_lng    end_lat    end_lng  \n",
       "0 -73.963013  40.668133 -73.973640  \n",
       "1 -73.993164  40.729538 -73.984268  \n",
       "2 -74.004829  40.721699 -74.002380  \n",
       "3 -73.971214  40.764397 -73.973717  \n",
       "4 -73.982117  40.730312 -73.980469  "
      ]
     },
     "execution_count": 120,
     "metadata": {},
     "output_type": "execute_result"
    }
   ],
   "source": [
    "df.head()"
   ]
  },
  {
   "cell_type": "markdown",
   "id": "eb3a50f7-406a-4361-b7c9-6f610ea79e66",
   "metadata": {
    "tags": []
   },
   "source": [
    "# Missing values treatment"
   ]
  },
  {
   "cell_type": "code",
   "execution_count": 121,
   "id": "ffa7e558-b430-4a3e-8b7b-1aec75f7b630",
   "metadata": {},
   "outputs": [
    {
     "data": {
      "text/plain": [
       "start_station_name        0\n",
       "end_station_name          0\n",
       "start_lat                 0\n",
       "start_lng                 0\n",
       "end_lat               37221\n",
       "end_lng               37221\n",
       "dtype: int64"
      ]
     },
     "execution_count": 121,
     "metadata": {},
     "output_type": "execute_result"
    }
   ],
   "source": [
    "df.isnull().sum()"
   ]
  },
  {
   "cell_type": "code",
   "execution_count": 122,
   "id": "2071e8b8-8baf-40f5-b017-0a2be3241a08",
   "metadata": {
    "tags": []
   },
   "outputs": [
    {
     "data": {
      "text/plain": [
       "1756"
      ]
     },
     "execution_count": 122,
     "metadata": {},
     "output_type": "execute_result"
    }
   ],
   "source": [
    "common_stations = set(df['start_station_name'].unique()) & set(df['end_station_name'].unique())\n",
    "len(common_stations)"
   ]
  },
  {
   "cell_type": "code",
   "execution_count": 123,
   "id": "e3b0e06c-2e6d-4a4f-9d47-bc9f482e0dc8",
   "metadata": {
    "tags": []
   },
   "outputs": [],
   "source": [
    "# create a reference table of stations with coordinates from the starting points\n",
    "stations = (\n",
    "    df[[\"start_station_name\", \"start_lat\", \"start_lng\"]]\n",
    "    .dropna(subset=[\"start_lat\", \"start_lng\"])  # исключаем пустые\n",
    "    .drop_duplicates()\n",
    "    .rename(columns={\n",
    "        \"start_station_name\": \"station_name\",\n",
    "        \"start_lat\": \"lat\",\n",
    "        \"start_lng\": \"lng\"\n",
    "    })\n",
    ")"
   ]
  },
  {
   "cell_type": "code",
   "execution_count": 124,
   "id": "12a55321-e41a-4fb4-b4f3-bd85807f1932",
   "metadata": {
    "tags": []
   },
   "outputs": [],
   "source": [
    "# Create a copy of only those rows where the end stations have no coordinates\n",
    "missing_ends = (\n",
    "    df[df[\"end_lat\"].isna()]\n",
    "    [[\"end_station_name\"]]\n",
    "    .drop_duplicates()\n",
    ")"
   ]
  },
  {
   "cell_type": "code",
   "execution_count": 125,
   "id": "372f22d9-40dd-49d0-bbb8-a0d4d9b80c52",
   "metadata": {
    "tags": []
   },
   "outputs": [],
   "source": [
    "# Create a copy of only those rows where the end stations have no coordinates\n",
    "missing_ends = missing_ends.merge(\n",
    "    stations,\n",
    "    how=\"left\",\n",
    "    left_on=\"end_station_name\",\n",
    "    right_on=\"station_name\"\n",
    ")"
   ]
  },
  {
   "cell_type": "code",
   "execution_count": 126,
   "id": "1be176f4-df9c-44e8-8f81-7fa3271f1c78",
   "metadata": {
    "tags": []
   },
   "outputs": [],
   "source": [
    "# Create dictionaries for quick coordinate lookup by station name\n",
    "lat_map = dict(zip(missing_ends[\"end_station_name\"], missing_ends[\"lat\"]))\n",
    "lng_map = dict(zip(missing_ends[\"end_station_name\"], missing_ends[\"lng\"]))\n",
    "\n",
    "# Fill in missing coordinates directly where they are absent\n",
    "df.loc[df[\"end_lat\"].isna(), \"end_lat\"] = df.loc[df[\"end_lat\"].isna(), \"end_station_name\"].map(lat_map)\n",
    "df.loc[df[\"end_lng\"].isna(), \"end_lng\"] = df.loc[df[\"end_lng\"].isna(), \"end_station_name\"].map(lng_map)"
   ]
  },
  {
   "cell_type": "code",
   "execution_count": 127,
   "id": "0cb19cf0-cf8a-4277-b44f-31ab391c24c6",
   "metadata": {
    "tags": []
   },
   "outputs": [
    {
     "data": {
      "text/plain": [
       "start_station_name    0\n",
       "end_station_name      0\n",
       "start_lat             0\n",
       "start_lng             0\n",
       "end_lat               0\n",
       "end_lng               0\n",
       "dtype: int64"
      ]
     },
     "execution_count": 127,
     "metadata": {},
     "output_type": "execute_result"
    }
   ],
   "source": [
    "df.isnull().sum()"
   ]
  },
  {
   "cell_type": "code",
   "execution_count": 128,
   "id": "35a5e33e-1966-4ee1-a15b-0564ab27cf2b",
   "metadata": {
    "tags": []
   },
   "outputs": [
    {
     "data": {
      "text/plain": [
       "Index(['start_station_name', 'end_station_name', 'start_lat', 'start_lng',\n",
       "       'end_lat', 'end_lng'],\n",
       "      dtype='object')"
      ]
     },
     "execution_count": 128,
     "metadata": {},
     "output_type": "execute_result"
    }
   ],
   "source": [
    "df.columns"
   ]
  },
  {
   "cell_type": "markdown",
   "id": "a3a0fb84-e1c8-4df1-958c-9dc881a4d9df",
   "metadata": {},
   "source": [
    "# Data preprocessing"
   ]
  },
  {
   "cell_type": "code",
   "execution_count": 129,
   "id": "123eaabd-862a-4146-95e2-8ace9e733354",
   "metadata": {
    "tags": []
   },
   "outputs": [],
   "source": [
    "df['trips'] = 1"
   ]
  },
  {
   "cell_type": "code",
   "execution_count": 130,
   "id": "c59dd9b9-a029-419e-b63f-88079f7d802d",
   "metadata": {
    "tags": []
   },
   "outputs": [],
   "source": [
    "df_group = df.groupby(['start_station_name', 'end_station_name'])['trips'].count().reset_index()"
   ]
  },
  {
   "cell_type": "code",
   "execution_count": 131,
   "id": "ad3f5694-d321-4331-b7e2-d8f93066d4f6",
   "metadata": {
    "tags": []
   },
   "outputs": [
    {
     "data": {
      "text/plain": [
       "29806700"
      ]
     },
     "execution_count": 131,
     "metadata": {},
     "output_type": "execute_result"
    }
   ],
   "source": [
    "df_group['trips'].sum()"
   ]
  },
  {
   "cell_type": "code",
   "execution_count": 132,
   "id": "f91db64b-53c6-413d-bd90-17a5a225616e",
   "metadata": {
    "tags": []
   },
   "outputs": [
    {
     "data": {
      "text/plain": [
       "29806700"
      ]
     },
     "execution_count": 132,
     "metadata": {},
     "output_type": "execute_result"
    }
   ],
   "source": [
    "df['trips'].sum()"
   ]
  },
  {
   "cell_type": "code",
   "execution_count": 133,
   "id": "612d4a41-f66e-46dd-b70d-ae8175da09f2",
   "metadata": {
    "tags": []
   },
   "outputs": [
    {
     "data": {
      "text/plain": [
       "(1013320, 3)"
      ]
     },
     "execution_count": 133,
     "metadata": {},
     "output_type": "execute_result"
    }
   ],
   "source": [
    "df_group.shape"
   ]
  },
  {
   "cell_type": "code",
   "execution_count": 134,
   "id": "04fa54ff-aa80-413b-add4-49db8fab91e6",
   "metadata": {
    "tags": []
   },
   "outputs": [
    {
     "data": {
      "text/html": [
       "<div>\n",
       "<style scoped>\n",
       "    .dataframe tbody tr th:only-of-type {\n",
       "        vertical-align: middle;\n",
       "    }\n",
       "\n",
       "    .dataframe tbody tr th {\n",
       "        vertical-align: top;\n",
       "    }\n",
       "\n",
       "    .dataframe thead th {\n",
       "        text-align: right;\n",
       "    }\n",
       "</style>\n",
       "<table border=\"1\" class=\"dataframe\">\n",
       "  <thead>\n",
       "    <tr style=\"text-align: right;\">\n",
       "      <th></th>\n",
       "      <th>start_station_name</th>\n",
       "      <th>end_station_name</th>\n",
       "      <th>trips</th>\n",
       "    </tr>\n",
       "  </thead>\n",
       "  <tbody>\n",
       "    <tr>\n",
       "      <th>0</th>\n",
       "      <td>1 Ave &amp; E 110 St</td>\n",
       "      <td>1 Ave &amp; E 110 St</td>\n",
       "      <td>791</td>\n",
       "    </tr>\n",
       "    <tr>\n",
       "      <th>1</th>\n",
       "      <td>1 Ave &amp; E 110 St</td>\n",
       "      <td>1 Ave &amp; E 18 St</td>\n",
       "      <td>2</td>\n",
       "    </tr>\n",
       "    <tr>\n",
       "      <th>2</th>\n",
       "      <td>1 Ave &amp; E 110 St</td>\n",
       "      <td>1 Ave &amp; E 30 St</td>\n",
       "      <td>4</td>\n",
       "    </tr>\n",
       "    <tr>\n",
       "      <th>3</th>\n",
       "      <td>1 Ave &amp; E 110 St</td>\n",
       "      <td>1 Ave &amp; E 39 St</td>\n",
       "      <td>1</td>\n",
       "    </tr>\n",
       "    <tr>\n",
       "      <th>4</th>\n",
       "      <td>1 Ave &amp; E 110 St</td>\n",
       "      <td>1 Ave &amp; E 44 St</td>\n",
       "      <td>12</td>\n",
       "    </tr>\n",
       "  </tbody>\n",
       "</table>\n",
       "</div>"
      ],
      "text/plain": [
       "  start_station_name  end_station_name  trips\n",
       "0   1 Ave & E 110 St  1 Ave & E 110 St    791\n",
       "1   1 Ave & E 110 St   1 Ave & E 18 St      2\n",
       "2   1 Ave & E 110 St   1 Ave & E 30 St      4\n",
       "3   1 Ave & E 110 St   1 Ave & E 39 St      1\n",
       "4   1 Ave & E 110 St   1 Ave & E 44 St     12"
      ]
     },
     "execution_count": 134,
     "metadata": {},
     "output_type": "execute_result"
    }
   ],
   "source": [
    "df_group.head()"
   ]
  },
  {
   "cell_type": "code",
   "execution_count": 135,
   "id": "e189e16b-00ad-42b7-bc25-167a57da5862",
   "metadata": {
    "tags": []
   },
   "outputs": [
    {
     "data": {
      "text/plain": [
       "count    1.013320e+06\n",
       "mean     2.941489e+01\n",
       "std      9.916538e+01\n",
       "min      1.000000e+00\n",
       "25%      1.000000e+00\n",
       "50%      4.000000e+00\n",
       "75%      1.700000e+01\n",
       "max      1.204100e+04\n",
       "Name: trips, dtype: float64"
      ]
     },
     "execution_count": 135,
     "metadata": {},
     "output_type": "execute_result"
    }
   ],
   "source": [
    "df_group['trips'].describe()"
   ]
  },
  {
   "cell_type": "code",
   "execution_count": 136,
   "id": "9d1a5d4b-ceea-491e-8ea1-446c956ed5b7",
   "metadata": {
    "tags": []
   },
   "outputs": [
    {
     "data": {
      "text/plain": [
       "1       267668\n",
       "2       127962\n",
       "3        77927\n",
       "4        54713\n",
       "5        40719\n",
       "         ...  \n",
       "1408         1\n",
       "2988         1\n",
       "1649         1\n",
       "2468         1\n",
       "1252         1\n",
       "Name: trips, Length: 1847, dtype: int64"
      ]
     },
     "execution_count": 136,
     "metadata": {},
     "output_type": "execute_result"
    }
   ],
   "source": [
    "df_group['trips'].sort_index().value_counts()"
   ]
  },
  {
   "cell_type": "code",
   "execution_count": 137,
   "id": "855da00e-bdba-4e30-9332-5118841b7ebc",
   "metadata": {
    "tags": []
   },
   "outputs": [
    {
     "data": {
      "image/png": "[encoded data removed]",
      "text/plain": [
       "<Figure size 640x480 with 1 Axes>"
      ]
     },
     "metadata": {},
     "output_type": "display_data"
    }
   ],
   "source": [
    "# Plot histogram of trip counts between stations to see distribution\n",
    "df_group['trips'].hist(bins=100)\n",
    "plt.yscale('log')  # Log scale to handle skewness\n",
    "plt.xlabel(\"Trip Count\")\n",
    "plt.ylabel(\"Frequency (Log Scale)\")\n",
    "plt.title(\"Distribution of Trip Counts Between Stations\")\n",
    "plt.show()"
   ]
  },
  {
   "cell_type": "code",
   "execution_count": 138,
   "id": "d69c73ad-7a38-41c3-8c2f-ba559ed89383",
   "metadata": {
    "tags": []
   },
   "outputs": [
    {
     "data": {
      "text/plain": [
       "<Axes: >"
      ]
     },
     "execution_count": 138,
     "metadata": {},
     "output_type": "execute_result"
    },
    {
     "data": {
      "image/png": "[encoded data removed]",
      "text/plain": [
       "<Figure size 640x480 with 1 Axes>"
      ]
     },
     "metadata": {},
     "output_type": "display_data"
    }
   ],
   "source": [
    "df_group.boxplot(column = 'trips') "
   ]
  },
  {
   "cell_type": "code",
   "execution_count": 139,
   "id": "81f06cc8-a201-4b6f-88ff-a4a006139c4d",
   "metadata": {
    "tags": []
   },
   "outputs": [],
   "source": [
    "df_group.to_csv('df_groupby_final.csv')"
   ]
  },
  {
   "cell_type": "code",
   "execution_count": 140,
   "id": "7a4ae630-5836-4c2e-8c75-f06895d3b81e",
   "metadata": {
    "tags": []
   },
   "outputs": [
    {
     "data": {
      "text/plain": [
       "19806"
      ]
     },
     "execution_count": 140,
     "metadata": {},
     "output_type": "execute_result"
    }
   ],
   "source": [
    "import gc # this is garbage collector - speeds up performance\n",
    "gc.collect()"
   ]
  },
  {
   "cell_type": "markdown",
   "id": "7bba7fb9-a179-4e52-b46b-07b55242b798",
   "metadata": {},
   "source": [
    "# Pareto analysis: find top 20% routes covering 80% of trips "
   ]
  },
  {
   "cell_type": "code",
   "execution_count": 141,
   "id": "da9c5f73-0606-4d04-88e5-1b5ec4c4c8a2",
   "metadata": {
    "tags": []
   },
   "outputs": [],
   "source": [
    "df_trips = (\n",
    "    df_group.groupby(\n",
    "        ['start_station_name', 'end_station_name'],\n",
    "        as_index=False\n",
    "    )['trips'].first()      \n",
    ")"
   ]
  },
  {
   "cell_type": "code",
   "execution_count": 142,
   "id": "869ffd46-2c28-40f5-a096-7b8c92648487",
   "metadata": {
    "tags": []
   },
   "outputs": [
    {
     "data": {
      "text/plain": [
       "(1013320, 3)"
      ]
     },
     "execution_count": 142,
     "metadata": {},
     "output_type": "execute_result"
    }
   ],
   "source": [
    "df_trips.shape"
   ]
  },
  {
   "cell_type": "code",
   "execution_count": 143,
   "id": "957754de-4723-419b-bfac-2c325cd16c89",
   "metadata": {
    "tags": []
   },
   "outputs": [
    {
     "data": {
      "text/plain": [
       "29806700"
      ]
     },
     "execution_count": 143,
     "metadata": {},
     "output_type": "execute_result"
    }
   ],
   "source": [
    "df_trips['trips'].sum()"
   ]
  },
  {
   "cell_type": "code",
   "execution_count": 144,
   "id": "a5149960-1b5f-4162-a0a6-3010c92ef450",
   "metadata": {
    "tags": []
   },
   "outputs": [
    {
     "data": {
      "text/html": [
       "<div>\n",
       "<style scoped>\n",
       "    .dataframe tbody tr th:only-of-type {\n",
       "        vertical-align: middle;\n",
       "    }\n",
       "\n",
       "    .dataframe tbody tr th {\n",
       "        vertical-align: top;\n",
       "    }\n",
       "\n",
       "    .dataframe thead th {\n",
       "        text-align: right;\n",
       "    }\n",
       "</style>\n",
       "<table border=\"1\" class=\"dataframe\">\n",
       "  <thead>\n",
       "    <tr style=\"text-align: right;\">\n",
       "      <th></th>\n",
       "      <th>start_station_name</th>\n",
       "      <th>end_station_name</th>\n",
       "      <th>trips</th>\n",
       "    </tr>\n",
       "  </thead>\n",
       "  <tbody>\n",
       "    <tr>\n",
       "      <th>0</th>\n",
       "      <td>1 Ave &amp; E 110 St</td>\n",
       "      <td>1 Ave &amp; E 110 St</td>\n",
       "      <td>791</td>\n",
       "    </tr>\n",
       "    <tr>\n",
       "      <th>1</th>\n",
       "      <td>1 Ave &amp; E 110 St</td>\n",
       "      <td>1 Ave &amp; E 18 St</td>\n",
       "      <td>2</td>\n",
       "    </tr>\n",
       "    <tr>\n",
       "      <th>2</th>\n",
       "      <td>1 Ave &amp; E 110 St</td>\n",
       "      <td>1 Ave &amp; E 30 St</td>\n",
       "      <td>4</td>\n",
       "    </tr>\n",
       "    <tr>\n",
       "      <th>3</th>\n",
       "      <td>1 Ave &amp; E 110 St</td>\n",
       "      <td>1 Ave &amp; E 39 St</td>\n",
       "      <td>1</td>\n",
       "    </tr>\n",
       "    <tr>\n",
       "      <th>4</th>\n",
       "      <td>1 Ave &amp; E 110 St</td>\n",
       "      <td>1 Ave &amp; E 44 St</td>\n",
       "      <td>12</td>\n",
       "    </tr>\n",
       "  </tbody>\n",
       "</table>\n",
       "</div>"
      ],
      "text/plain": [
       "  start_station_name  end_station_name  trips\n",
       "0   1 Ave & E 110 St  1 Ave & E 110 St    791\n",
       "1   1 Ave & E 110 St   1 Ave & E 18 St      2\n",
       "2   1 Ave & E 110 St   1 Ave & E 30 St      4\n",
       "3   1 Ave & E 110 St   1 Ave & E 39 St      1\n",
       "4   1 Ave & E 110 St   1 Ave & E 44 St     12"
      ]
     },
     "execution_count": 144,
     "metadata": {},
     "output_type": "execute_result"
    }
   ],
   "source": [
    "df_trips.head()"
   ]
  },
  {
   "cell_type": "code",
   "execution_count": 145,
   "id": "53f8844b-92b4-4ed2-b863-2af4e5b8ecca",
   "metadata": {
    "tags": []
   },
   "outputs": [
    {
     "name": "stdout",
     "output_type": "stream",
     "text": [
      "TOP ROUTES: 146682 routes (14.5% of all) cover 80% of total trips.\n"
     ]
    },
    {
     "data": {
      "text/html": [
       "<div>\n",
       "<style scoped>\n",
       "    .dataframe tbody tr th:only-of-type {\n",
       "        vertical-align: middle;\n",
       "    }\n",
       "\n",
       "    .dataframe tbody tr th {\n",
       "        vertical-align: top;\n",
       "    }\n",
       "\n",
       "    .dataframe thead th {\n",
       "        text-align: right;\n",
       "    }\n",
       "</style>\n",
       "<table border=\"1\" class=\"dataframe\">\n",
       "  <thead>\n",
       "    <tr style=\"text-align: right;\">\n",
       "      <th></th>\n",
       "      <th>start_station_name</th>\n",
       "      <th>end_station_name</th>\n",
       "      <th>trips</th>\n",
       "      <th>cum_share</th>\n",
       "    </tr>\n",
       "  </thead>\n",
       "  <tbody>\n",
       "    <tr>\n",
       "      <th>294965</th>\n",
       "      <td>Central Park S &amp; 6 Ave</td>\n",
       "      <td>Central Park S &amp; 6 Ave</td>\n",
       "      <td>12041</td>\n",
       "      <td>0.000404</td>\n",
       "    </tr>\n",
       "    <tr>\n",
       "      <th>147924</th>\n",
       "      <td>7 Ave &amp; Central Park South</td>\n",
       "      <td>7 Ave &amp; Central Park South</td>\n",
       "      <td>8541</td>\n",
       "      <td>0.000691</td>\n",
       "    </tr>\n",
       "    <tr>\n",
       "      <th>782323</th>\n",
       "      <td>Roosevelt Island Tramway</td>\n",
       "      <td>Roosevelt Island Tramway</td>\n",
       "      <td>8211</td>\n",
       "      <td>0.000966</td>\n",
       "    </tr>\n",
       "    <tr>\n",
       "      <th>800555</th>\n",
       "      <td>Soissons Landing</td>\n",
       "      <td>Soissons Landing</td>\n",
       "      <td>7275</td>\n",
       "      <td>0.001210</td>\n",
       "    </tr>\n",
       "    <tr>\n",
       "      <th>548185</th>\n",
       "      <td>Grand Army Plaza &amp; Central Park S</td>\n",
       "      <td>Grand Army Plaza &amp; Central Park S</td>\n",
       "      <td>7259</td>\n",
       "      <td>0.001454</td>\n",
       "    </tr>\n",
       "  </tbody>\n",
       "</table>\n",
       "</div>"
      ],
      "text/plain": [
       "                       start_station_name                   end_station_name  \\\n",
       "294965             Central Park S & 6 Ave             Central Park S & 6 Ave   \n",
       "147924         7 Ave & Central Park South         7 Ave & Central Park South   \n",
       "782323           Roosevelt Island Tramway           Roosevelt Island Tramway   \n",
       "800555                   Soissons Landing                   Soissons Landing   \n",
       "548185  Grand Army Plaza & Central Park S  Grand Army Plaza & Central Park S   \n",
       "\n",
       "        trips  cum_share  \n",
       "294965  12041   0.000404  \n",
       "147924   8541   0.000691  \n",
       "782323   8211   0.000966  \n",
       "800555   7275   0.001210  \n",
       "548185   7259   0.001454  "
      ]
     },
     "execution_count": 145,
     "metadata": {},
     "output_type": "execute_result"
    }
   ],
   "source": [
    "# Sort routes by number of trips (descending)\n",
    "routes_sorted = df_trips.sort_values(by='trips', ascending=False)\n",
    "\n",
    "# Calculate cumulative share (running %)\n",
    "routes_sorted['cum_share'] = routes_sorted['trips'].cumsum() / routes_sorted['trips'].sum()\n",
    "\n",
    "# Select the top routes that together account for 80% of all trips\n",
    "top_80_routes = routes_sorted[routes_sorted['cum_share'] <= 0.8]\n",
    "\n",
    "# Count how many routes and what % of all routes they represent\n",
    "top_count = len(top_80_routes)\n",
    "total_routes = len(routes_sorted)\n",
    "share_of_routes = top_count / total_routes\n",
    "\n",
    "print(f\"TOP ROUTES: {top_count} routes ({share_of_routes:.1%} of all) cover 80% of total trips.\")\n",
    "top_80_routes.head()\n"
   ]
  },
  {
   "cell_type": "code",
   "execution_count": 146,
   "id": "36bcc477-81f9-497d-91cf-0994507747ff",
   "metadata": {
    "tags": []
   },
   "outputs": [],
   "source": [
    "# Adding coordinates to top_80_routes df"
   ]
  },
  {
   "cell_type": "code",
   "execution_count": 147,
   "id": "9dcbfc92-de2a-452a-802d-3c48d08daca9",
   "metadata": {
    "tags": []
   },
   "outputs": [],
   "source": [
    "# 1. Extract unique start station coordinates\n",
    "start_coords = df_merged[['start_station_name', 'start_lat', 'start_lng']].drop_duplicates('start_station_name')"
   ]
  },
  {
   "cell_type": "code",
   "execution_count": 148,
   "id": "cb055157-f7ac-49a5-974f-c7b677d8690f",
   "metadata": {
    "tags": []
   },
   "outputs": [],
   "source": [
    "# 2. Extract unique end station coordinates\n",
    "end_coords = df_merged[['end_station_name', 'end_lat', 'end_lng']].drop_duplicates('end_station_name')"
   ]
  },
  {
   "cell_type": "code",
   "execution_count": 149,
   "id": "5c47008f-0e3c-43fa-bd17-754a34304e03",
   "metadata": {
    "tags": []
   },
   "outputs": [],
   "source": [
    "# 3. Add coordinates into df_trips (or routes_sorted / top_80_routes)\n",
    "df_pareto = top_80_routes.merge(start_coords, on='start_station_name', how='left')"
   ]
  },
  {
   "cell_type": "code",
   "execution_count": 150,
   "id": "3b613762-3366-43c1-8e21-daf575f9d673",
   "metadata": {
    "tags": []
   },
   "outputs": [],
   "source": [
    "df_pareto = df_pareto.merge(end_coords, on='end_station_name', how='left')"
   ]
  },
  {
   "cell_type": "code",
   "execution_count": 151,
   "id": "ca5b50c4-138b-4cc6-908f-b362ca7c849b",
   "metadata": {
    "tags": []
   },
   "outputs": [
    {
     "data": {
      "text/html": [
       "<div>\n",
       "<style scoped>\n",
       "    .dataframe tbody tr th:only-of-type {\n",
       "        vertical-align: middle;\n",
       "    }\n",
       "\n",
       "    .dataframe tbody tr th {\n",
       "        vertical-align: top;\n",
       "    }\n",
       "\n",
       "    .dataframe thead th {\n",
       "        text-align: right;\n",
       "    }\n",
       "</style>\n",
       "<table border=\"1\" class=\"dataframe\">\n",
       "  <thead>\n",
       "    <tr style=\"text-align: right;\">\n",
       "      <th></th>\n",
       "      <th>start_station_name</th>\n",
       "      <th>end_station_name</th>\n",
       "      <th>trips</th>\n",
       "      <th>cum_share</th>\n",
       "      <th>start_lat</th>\n",
       "      <th>start_lng</th>\n",
       "      <th>end_lat</th>\n",
       "      <th>end_lng</th>\n",
       "    </tr>\n",
       "  </thead>\n",
       "  <tbody>\n",
       "    <tr>\n",
       "      <th>0</th>\n",
       "      <td>Central Park S &amp; 6 Ave</td>\n",
       "      <td>Central Park S &amp; 6 Ave</td>\n",
       "      <td>12041</td>\n",
       "      <td>0.000404</td>\n",
       "      <td>40.765911</td>\n",
       "      <td>-73.976341</td>\n",
       "      <td>40.765911</td>\n",
       "      <td>-73.976341</td>\n",
       "    </tr>\n",
       "    <tr>\n",
       "      <th>1</th>\n",
       "      <td>7 Ave &amp; Central Park South</td>\n",
       "      <td>7 Ave &amp; Central Park South</td>\n",
       "      <td>8541</td>\n",
       "      <td>0.000691</td>\n",
       "      <td>40.766739</td>\n",
       "      <td>-73.979073</td>\n",
       "      <td>40.766739</td>\n",
       "      <td>-73.979073</td>\n",
       "    </tr>\n",
       "    <tr>\n",
       "      <th>2</th>\n",
       "      <td>Roosevelt Island Tramway</td>\n",
       "      <td>Roosevelt Island Tramway</td>\n",
       "      <td>8211</td>\n",
       "      <td>0.000966</td>\n",
       "      <td>40.757282</td>\n",
       "      <td>-73.953598</td>\n",
       "      <td>40.757282</td>\n",
       "      <td>-73.953598</td>\n",
       "    </tr>\n",
       "    <tr>\n",
       "      <th>3</th>\n",
       "      <td>Soissons Landing</td>\n",
       "      <td>Soissons Landing</td>\n",
       "      <td>7275</td>\n",
       "      <td>0.001210</td>\n",
       "      <td>40.692318</td>\n",
       "      <td>-74.014862</td>\n",
       "      <td>40.692318</td>\n",
       "      <td>-74.014862</td>\n",
       "    </tr>\n",
       "    <tr>\n",
       "      <th>4</th>\n",
       "      <td>Grand Army Plaza &amp; Central Park S</td>\n",
       "      <td>Grand Army Plaza &amp; Central Park S</td>\n",
       "      <td>7259</td>\n",
       "      <td>0.001454</td>\n",
       "      <td>40.764397</td>\n",
       "      <td>-73.973717</td>\n",
       "      <td>40.764397</td>\n",
       "      <td>-73.973717</td>\n",
       "    </tr>\n",
       "  </tbody>\n",
       "</table>\n",
       "</div>"
      ],
      "text/plain": [
       "                  start_station_name                   end_station_name  \\\n",
       "0             Central Park S & 6 Ave             Central Park S & 6 Ave   \n",
       "1         7 Ave & Central Park South         7 Ave & Central Park South   \n",
       "2           Roosevelt Island Tramway           Roosevelt Island Tramway   \n",
       "3                   Soissons Landing                   Soissons Landing   \n",
       "4  Grand Army Plaza & Central Park S  Grand Army Plaza & Central Park S   \n",
       "\n",
       "   trips  cum_share  start_lat  start_lng    end_lat    end_lng  \n",
       "0  12041   0.000404  40.765911 -73.976341  40.765911 -73.976341  \n",
       "1   8541   0.000691  40.766739 -73.979073  40.766739 -73.979073  \n",
       "2   8211   0.000966  40.757282 -73.953598  40.757282 -73.953598  \n",
       "3   7275   0.001210  40.692318 -74.014862  40.692318 -74.014862  \n",
       "4   7259   0.001454  40.764397 -73.973717  40.764397 -73.973717  "
      ]
     },
     "execution_count": 151,
     "metadata": {},
     "output_type": "execute_result"
    }
   ],
   "source": [
    "df_pareto.head()"
   ]
  },
  {
   "cell_type": "code",
   "execution_count": 152,
   "id": "5bf4c8e7-c0ee-4590-ba28-66bf140d24bd",
   "metadata": {
    "tags": []
   },
   "outputs": [
    {
     "data": {
      "text/plain": [
       "(146682, 8)"
      ]
     },
     "execution_count": 152,
     "metadata": {},
     "output_type": "execute_result"
    }
   ],
   "source": [
    "df_pareto.shape"
   ]
  },
  {
   "cell_type": "code",
   "execution_count": 153,
   "id": "03a2eb4e-1ebc-4095-ae9c-a4dfdde1af2b",
   "metadata": {
    "tags": []
   },
   "outputs": [],
   "source": [
    "df_pareto.to_pickle('df_pareto.pkl')"
   ]
  },
  {
   "cell_type": "markdown",
   "id": "3812c074-adb5-4602-9e80-c1a41f3cdc3e",
   "metadata": {},
   "source": [
    "# Mapping"
   ]
  },
  {
   "cell_type": "code",
   "execution_count": 154,
   "id": "2be0abf5-1cd2-48cc-8a71-9259f0ac09cd",
   "metadata": {
    "tags": []
   },
   "outputs": [
    {
     "data": {
      "text/plain": [
       "count    146682.000000\n",
       "mean        162.564950\n",
       "std         216.224872\n",
       "min          42.000000\n",
       "25%          61.000000\n",
       "50%          97.000000\n",
       "75%         179.000000\n",
       "max       12041.000000\n",
       "Name: trips, dtype: float64"
      ]
     },
     "execution_count": 154,
     "metadata": {},
     "output_type": "execute_result"
    }
   ],
   "source": [
    "df_pareto['trips'].describe()"
   ]
  },
  {
   "cell_type": "markdown",
   "id": "a3c7ef5e-a2d0-48f1-9f98-24caa66b9608",
   "metadata": {},
   "source": [
    "This summary describes only the routes that together make up 80% of all CitiBike trips.\n",
    "\n",
    "count = 146,682\tThere are 146,682 unique routes in the “Pareto group” (≈14.5% of all routes).\n",
    "mean = 162.6\tOn average, each of these routes has ~163 trips per year.\n",
    "std = 216.2\tThe number of trips varies significantly across routes.\n",
    "min = 42\tThe least popular route in the Pareto group has 42 trips.\n",
    "25% = 61\t25% of key routes have 61 trips or fewer.\n",
    "50% (median) = 97\tHalf of the key routes have fewer than 97 trips.\n",
    "75% = 179\t75% of the key routes have fewer than 179 trips.\n",
    "max = 12,041\tThe most popular route has 12,041 trips."
   ]
  },
  {
   "cell_type": "code",
   "execution_count": 155,
   "id": "2c651939-ae15-481b-be26-452f7f023e18",
   "metadata": {
    "tags": []
   },
   "outputs": [
    {
     "data": {
      "text/plain": [
       "0"
      ]
     },
     "execution_count": 155,
     "metadata": {},
     "output_type": "execute_result"
    }
   ],
   "source": [
    "import gc # this is garbage collector - speeds up performance\n",
    "gc.collect()"
   ]
  },
  {
   "cell_type": "markdown",
   "id": "d5d76416-d19c-41cd-947f-95afecd1c7fe",
   "metadata": {},
   "source": [
    "Purpose of the visualization\n",
    "\n",
    "The goal of this Kepler.gl map is to visualize the flow of Citi Bike trips across New York City and understand where demand is concentrated.\n",
    "To do that, I used:\n",
    "\n",
    "Arc layer — to draw connections (routes) between start and end stations.\n",
    "\n",
    "Heat/color scale — to reflect the start point and end point."
   ]
  },
  {
   "cell_type": "markdown",
   "id": "8a142cfb-afdb-4217-a125-9dceb930dfa1",
   "metadata": {},
   "source": [
    "Steps performed in Python:\n",
    "\n",
    "Aggregated the dataset by route\n",
    "→ start_station_name + end_station_name → trips\n",
    "\n",
    "Applied the Pareto principle (80/20 rule)\n",
    "→ selected only the top routes that account for 80% of all bike trips.\n",
    "\n",
    "Merged coordinates into the aggregated routes so Kepler can draw arcs.\n",
    "\n",
    "Loaded into Kepler.gl and applied:\n",
    "\n",
    "Arc Layer (Start → End station)\n",
    "\n",
    "Color encoding\n",
    "\n",
    "Result: the map shows only the most relevant routes instead of millions of individual rides."
   ]
  },
  {
   "cell_type": "code",
   "execution_count": 156,
   "id": "674b590f-78ca-484c-8e63-d24e0ee52d9f",
   "metadata": {
    "tags": []
   },
   "outputs": [
    {
     "name": "stdout",
     "output_type": "stream",
     "text": [
      "User Guide: https://docs.kepler.gl/docs/keplergl-jupyter\n"
     ]
    },
    {
     "data": {
      "application/vnd.jupyter.widget-view+json": {
       "model_id": "b7e7ac1a0d2a49668dccd9c8a1f70f40",
       "version_major": 2,
       "version_minor": 0
      },
      "text/plain": [
       "KeplerGl(data={'data_1':                        start_station_name                   end_station_name  \\\n",
       "0    …"
      ]
     },
     "metadata": {},
     "output_type": "display_data"
    }
   ],
   "source": [
    "# Create KeplerGl instance\n",
    "\n",
    "map_1 = KeplerGl(height = 700, data={\"data_1\": df_pareto})\n",
    "map_1"
   ]
  },
  {
   "cell_type": "markdown",
   "id": "ceade6cc-d308-4c21-a126-06a7c6643502",
   "metadata": {},
   "source": [
    "According to the Pareto principle, only 14.5% of all CitiBike routes account for 80% of total trips.\n",
    "These routes average 163 trips each, with the busiest single origin–destination pair generating 12,041 trips."
   ]
  },
  {
   "cell_type": "markdown",
   "id": "76e740d8-28b3-48d0-bc62-c8bd89fcf4b4",
   "metadata": {},
   "source": [
    "Optimizing bike repositioning on just the top 14.5% of routes would address 80% of the demand.\n",
    "This dramatically reduces the search space for operational planning."
   ]
  },
  {
   "cell_type": "markdown",
   "id": "1e8a2107-b824-493a-baf1-86f13952bb02",
   "metadata": {},
   "source": [
    "The Kepler map shows Citi Bike routes in New York City using arc connections between start and end stations. The color of each arc represents the number of trips on that route. Brighter colors indicate higher usage, while darker colors indicate fewer trips. Only the most frequent routes were visualized — specifically the routes that together account for 80% of all Citi Bike trips. This was done using a Pareto analysis, which revealed that only about 14.5% of all unique routes generate 80% of total rides.\n",
    "The map shows a very dense concentration of routes in Midtown and Lower Manhattan. These areas have the highest demand and represent a mix of commuter activity and tourism. There is a high volume of routes around Central Park and along the Hudson River Greenway. These routes are typically recreational and popular with casual riders.\n",
    "As the map moves outward from Manhattan, the number of routes decreases significantly. In the outer boroughs, such as Queens, the Bronx, and the deeper parts of Brooklyn, there are far fewer arcs. This is due to lower station density and less bike infrastructure compared to Manhattan. Jersey City and Roosevelt Island show isolated clusters of trips, but these areas are not strongly connected to the main Manhattan network.\n",
    "Overall, the map clearly indicates that Citi Bike demand is concentrated in the core of Manhattan, where trips are short, dense, and repetitive. This suggests that operational planning — such as bike rebalancing and fleet distribution — should prioritize central Manhattan and the key corridors highlighted on the map."
   ]
  },
  {
   "cell_type": "code",
   "execution_count": 165,
   "id": "80d1b2d6-76c0-4c4c-979b-19bf95bcf5fe",
   "metadata": {
    "tags": []
   },
   "outputs": [],
   "source": [
    "config = map_1.config"
   ]
  },
  {
   "cell_type": "code",
   "execution_count": 166,
   "id": "e31b3d9f-0363-447f-8c5d-eb57302324cf",
   "metadata": {
    "collapsed": true,
    "jupyter": {
     "outputs_hidden": true
    },
    "tags": []
   },
   "outputs": [
    {
     "data": {
      "text/plain": [
       "{'version': 'v1',\n",
       " 'config': {'visState': {'filters': [{'dataId': ['data_1'],\n",
       "     'id': '80e8yc23',\n",
       "     'name': ['trips'],\n",
       "     'type': 'range',\n",
       "     'value': [1717, 12041],\n",
       "     'enlarged': False,\n",
       "     'plotType': 'histogram',\n",
       "     'animationWindow': 'free',\n",
       "     'yAxis': None,\n",
       "     'speed': 1}],\n",
       "   'layers': [{'id': 'vdyiq5h',\n",
       "     'type': 'point',\n",
       "     'config': {'dataId': 'data_1',\n",
       "      'label': 'start',\n",
       "      'color': [164, 13, 119],\n",
       "      'highlightColor': [252, 242, 26, 255],\n",
       "      'columns': {'lat': 'start_lat', 'lng': 'start_lng', 'altitude': None},\n",
       "      'isVisible': True,\n",
       "      'visConfig': {'radius': 10,\n",
       "       'fixedRadius': False,\n",
       "       'opacity': 0.8,\n",
       "       'outline': False,\n",
       "       'thickness': 2,\n",
       "       'strokeColor': None,\n",
       "       'colorRange': {'name': 'Global Warming',\n",
       "        'type': 'sequential',\n",
       "        'category': 'Uber',\n",
       "        'colors': ['#5A1846',\n",
       "         '#900C3F',\n",
       "         '#C70039',\n",
       "         '#E3611C',\n",
       "         '#F1920E',\n",
       "         '#FFC300']},\n",
       "       'strokeColorRange': {'name': 'Global Warming',\n",
       "        'type': 'sequential',\n",
       "        'category': 'Uber',\n",
       "        'colors': ['#5A1846',\n",
       "         '#900C3F',\n",
       "         '#C70039',\n",
       "         '#E3611C',\n",
       "         '#F1920E',\n",
       "         '#FFC300']},\n",
       "       'radiusRange': [0, 50],\n",
       "       'filled': True},\n",
       "      'hidden': False,\n",
       "      'textLabel': [{'field': None,\n",
       "        'color': [255, 255, 255],\n",
       "        'size': 18,\n",
       "        'offset': [0, 0],\n",
       "        'anchor': 'start',\n",
       "        'alignment': 'center'}]},\n",
       "     'visualChannels': {'colorField': None,\n",
       "      'colorScale': 'quantile',\n",
       "      'strokeColorField': None,\n",
       "      'strokeColorScale': 'quantile',\n",
       "      'sizeField': None,\n",
       "      'sizeScale': 'linear'}},\n",
       "    {'id': 'diby0t',\n",
       "     'type': 'point',\n",
       "     'config': {'dataId': 'data_1',\n",
       "      'label': 'end',\n",
       "      'color': [254, 179, 26],\n",
       "      'highlightColor': [252, 242, 26, 255],\n",
       "      'columns': {'lat': 'end_lat', 'lng': 'end_lng', 'altitude': None},\n",
       "      'isVisible': True,\n",
       "      'visConfig': {'radius': 10,\n",
       "       'fixedRadius': False,\n",
       "       'opacity': 0.8,\n",
       "       'outline': False,\n",
       "       'thickness': 2,\n",
       "       'strokeColor': None,\n",
       "       'colorRange': {'name': 'Global Warming',\n",
       "        'type': 'sequential',\n",
       "        'category': 'Uber',\n",
       "        'colors': ['#5A1846',\n",
       "         '#900C3F',\n",
       "         '#C70039',\n",
       "         '#E3611C',\n",
       "         '#F1920E',\n",
       "         '#FFC300']},\n",
       "       'strokeColorRange': {'name': 'Global Warming',\n",
       "        'type': 'sequential',\n",
       "        'category': 'Uber',\n",
       "        'colors': ['#5A1846',\n",
       "         '#900C3F',\n",
       "         '#C70039',\n",
       "         '#E3611C',\n",
       "         '#F1920E',\n",
       "         '#FFC300']},\n",
       "       'radiusRange': [0, 50],\n",
       "       'filled': True},\n",
       "      'hidden': False,\n",
       "      'textLabel': [{'field': None,\n",
       "        'color': [255, 255, 255],\n",
       "        'size': 18,\n",
       "        'offset': [0, 0],\n",
       "        'anchor': 'start',\n",
       "        'alignment': 'center'}]},\n",
       "     'visualChannels': {'colorField': None,\n",
       "      'colorScale': 'quantile',\n",
       "      'strokeColorField': None,\n",
       "      'strokeColorScale': 'quantile',\n",
       "      'sizeField': None,\n",
       "      'sizeScale': 'linear'}},\n",
       "    {'id': 'apr1but',\n",
       "     'type': 'arc',\n",
       "     'config': {'dataId': 'data_1',\n",
       "      'label': 'start -> end arc',\n",
       "      'color': [184, 15, 135],\n",
       "      'highlightColor': [252, 242, 26, 255],\n",
       "      'columns': {'lat0': 'start_lat',\n",
       "       'lng0': 'start_lng',\n",
       "       'lat1': 'end_lat',\n",
       "       'lng1': 'end_lng'},\n",
       "      'isVisible': True,\n",
       "      'visConfig': {'opacity': 0.8,\n",
       "       'thickness': 2.8,\n",
       "       'colorRange': {'name': 'Global Warming',\n",
       "        'type': 'sequential',\n",
       "        'category': 'Uber',\n",
       "        'colors': ['#5A1846',\n",
       "         '#900C3F',\n",
       "         '#C70039',\n",
       "         '#E3611C',\n",
       "         '#F1920E',\n",
       "         '#FFC300']},\n",
       "       'sizeRange': [0, 10],\n",
       "       'targetColor': [253, 167, 0]},\n",
       "      'hidden': False,\n",
       "      'textLabel': [{'field': None,\n",
       "        'color': [255, 255, 255],\n",
       "        'size': 18,\n",
       "        'offset': [0, 0],\n",
       "        'anchor': 'start',\n",
       "        'alignment': 'center'}]},\n",
       "     'visualChannels': {'colorField': None,\n",
       "      'colorScale': 'quantile',\n",
       "      'sizeField': None,\n",
       "      'sizeScale': 'linear'}}],\n",
       "   'interactionConfig': {'tooltip': {'fieldsToShow': {'data_1': [{'name': 'start_station_name',\n",
       "        'format': None},\n",
       "       {'name': 'end_station_name', 'format': None},\n",
       "       {'name': 'trips', 'format': None},\n",
       "       {'name': 'cum_share', 'format': None}]},\n",
       "     'compareMode': False,\n",
       "     'compareType': 'absolute',\n",
       "     'enabled': True},\n",
       "    'brush': {'size': 0.5, 'enabled': False},\n",
       "    'geocoder': {'enabled': False},\n",
       "    'coordinate': {'enabled': False}},\n",
       "   'layerBlending': 'normal',\n",
       "   'splitMaps': [],\n",
       "   'animationConfig': {'currentTime': None, 'speed': 1}},\n",
       "  'mapState': {'bearing': 0,\n",
       "   'dragRotate': False,\n",
       "   'latitude': 40.746862556818634,\n",
       "   'longitude': -73.9813097629926,\n",
       "   'pitch': 0,\n",
       "   'zoom': 11.308089694570247,\n",
       "   'isSplit': False},\n",
       "  'mapStyle': {'styleType': 'dark',\n",
       "   'topLayerGroups': {},\n",
       "   'visibleLayerGroups': {'label': True,\n",
       "    'road': True,\n",
       "    'border': False,\n",
       "    'building': True,\n",
       "    'water': True,\n",
       "    'land': True,\n",
       "    '3d building': False},\n",
       "   'threeDBuildingColor': [9.665468314072013,\n",
       "    17.18305478057247,\n",
       "    31.1442867897876],\n",
       "   'mapStyles': {}}}}"
      ]
     },
     "execution_count": 166,
     "metadata": {},
     "output_type": "execute_result"
    }
   ],
   "source": [
    "config"
   ]
  },
  {
   "cell_type": "code",
   "execution_count": 167,
   "id": "2818fab6-f53b-4d6e-b2c0-14f9c2d78e1b",
   "metadata": {
    "tags": []
   },
   "outputs": [],
   "source": [
    "import json\n",
    "with open(\"config.json\", \"w\") as outfile:\n",
    "    json.dump(config, outfile)"
   ]
  },
  {
   "cell_type": "code",
   "execution_count": 168,
   "id": "80b735aa-6d0d-4532-a174-b25877925ba5",
   "metadata": {
    "tags": []
   },
   "outputs": [
    {
     "name": "stdout",
     "output_type": "stream",
     "text": [
      "Map saved to nyc_bike_map.html!\n"
     ]
    }
   ],
   "source": [
    "map_1.save_to_html(file_name = 'nyc_bike_map.html', read_only = False, config = config)"
   ]
  },
  {
   "cell_type": "markdown",
   "id": "6bc1e5b7-1abc-4643-81d5-3412e26c9be0",
   "metadata": {},
   "source": [
    "# Suggested Plan to Improve Future Analysis"
   ]
  },
  {
   "cell_type": "markdown",
   "id": "34b40747-b634-4525-9e42-e3e80065dfd3",
   "metadata": {},
   "source": [
    "To extend and enhance the City Bike research, future analyses could include the following directions:\n",
    "\n",
    "\n",
    "Transport Service Disruptions:\n",
    "Incorporate data on temporary service interruptions caused by construction, maintenance, or street closures—particularly during nighttime hours—to better understand their effect on trip volume and route selection.\n",
    "\n",
    "Event and Seasonal Planning:\n",
    "Analyze areas near main routes and major venues by integrating city event calendars (e.g., concerts, festivals, sports events). This would help anticipate demand spikes and optimize bike availability in advance of large gatherings."
   ]
  }
 ],
 "metadata": {
  "kernelspec": {
   "display_name": "City_Bikes_env (Python 3.10)",
   "language": "python",
   "name": "city_bikes_env"
  },
  "language_info": {
   "codemirror_mode": {
    "name": "ipython",
    "version": 3
   },
   "file_extension": ".py",
   "mimetype": "text/x-python",
   "name": "python",
   "nbconvert_exporter": "python",
   "pygments_lexer": "ipython3",
   "version": "3.10.18"
  }
 },
 "nbformat": 4,
 "nbformat_minor": 5
}
